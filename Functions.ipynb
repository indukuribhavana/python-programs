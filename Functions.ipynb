{
  "nbformat": 4,
  "nbformat_minor": 0,
  "metadata": {
    "colab": {
      "name": "Functions.ipynb",
      "provenance": [],
      "collapsed_sections": [],
      "authorship_tag": "ABX9TyOydjEKeZSiLDrskteVI9Ha",
      "include_colab_link": true
    },
    "kernelspec": {
      "name": "python3",
      "display_name": "Python 3"
    },
    "language_info": {
      "name": "python"
    }
  },
  "cells": [
    {
      "cell_type": "markdown",
      "metadata": {
        "id": "view-in-github",
        "colab_type": "text"
      },
      "source": [
        "<a href=\"https://colab.research.google.com/github/indukuribhavana/python-programs/blob/main/Functions.ipynb\" target=\"_parent\"><img src=\"https://colab.research.google.com/assets/colab-badge.svg\" alt=\"Open In Colab\"/></a>"
      ]
    },
    {
      "cell_type": "code",
      "execution_count": 8,
      "metadata": {
        "colab": {
          "base_uri": "https://localhost:8080/"
        },
        "id": "08hmbBiBPwE3",
        "outputId": "de703118-7245-4a2e-9830-c351c3cf2f12"
      },
      "outputs": [
        {
          "output_type": "stream",
          "name": "stdout",
          "text": [
            "hello from bhavana\n"
          ]
        }
      ],
      "source": [
        "#FUNCTIONS\n",
        "def bhavana():\n",
        "  print(\"hello from bhavana\")\n",
        "bhavana()\n",
        "\n"
      ]
    },
    {
      "cell_type": "code",
      "source": [
        "def bhavana(x):\n",
        "  print(x+\"hello from bhavana\")\n",
        "bhavana(\"bhanu \")\n",
        "bhavana(\"dhanush \")\n",
        "bhavana(\"rakshitha \")\n",
        "\n",
        "def bhavana(akhila,divija):\n",
        "  print(akhila + \" \" + divija)\n",
        "bhavana(\"good\",\"cool\")\n",
        "\n",
        "def votting(g,n,a):\n",
        "  print(g + \"female\")\n",
        "  print(n + \"bhavana\")\n",
        "  print(a + \"18\")\n",
        "\n",
        "votting(\"gender:\",\"name:\",\"age:\")  \n",
        "\n",
        "def bhavana(**akhila):\n",
        "   print(\"her last name is \" + akhila[\"lname\"])\n",
        "   print(\"her first name is \" + akhila[\"fname\"])\n",
        "bhavana(fname = \"bhavana\", lname = \"indukuri\")\n",
        "\n",
        "\n",
        "#DEFAULT PARAMETER VALUE\n",
        "def bhavana(name = \"bhavana\"):\n",
        "  print(name + \" is from india\")\n",
        "\n",
        "bhavana(\"bhanu\")\n",
        "bhavana(\"rakshitha\")\n",
        "bhavana(\"dhanush\")\n",
        "bhavana()\n",
        "\n",
        "#PASSING LIST AS AN ARGUMENT\n",
        "def bhavana(food):\n",
        "  for x in food:\n",
        "    print(x)\n",
        "\n",
        "choclates = [\"kitkat\",\"munch\",\"dairy milk\"]\n",
        "\n",
        "bhavana(choclates)"
      ],
      "metadata": {
        "colab": {
          "base_uri": "https://localhost:8080/"
        },
        "id": "43JIUMZBWjb4",
        "outputId": "23bf0e6f-1cd3-4e57-b6b5-833eddd31b02"
      },
      "execution_count": 37,
      "outputs": [
        {
          "output_type": "stream",
          "name": "stdout",
          "text": [
            "bhanu hello from bhavana\n",
            "dhanush hello from bhavana\n",
            "rakshitha hello from bhavana\n",
            "good cool\n",
            "gender:female\n",
            "name:bhavana\n",
            "age:18\n",
            "her last name is indukuri\n",
            "her first name is bhavana\n",
            "bhanu is from india\n",
            "rakshitha is from india\n",
            "dhanush is from india\n",
            "bhavana is from india\n",
            "kitkat\n",
            "munch\n",
            "dairy milk\n"
          ]
        }
      ]
    }
  ]
}