{
  "nbformat": 4,
  "nbformat_minor": 0,
  "metadata": {
    "colab": {
      "name": "Copy of String.ipynb",
      "provenance": [],
      "collapsed_sections": [],
      "authorship_tag": "ABX9TyP0sDgW/Fh6ETS/55wPWEAe",
      "include_colab_link": true
    },
    "kernelspec": {
      "name": "python3",
      "display_name": "Python 3"
    },
    "language_info": {
      "name": "python"
    }
  },
  "cells": [
    {
      "cell_type": "markdown",
      "metadata": {
        "id": "view-in-github",
        "colab_type": "text"
      },
      "source": [
        "<a href=\"https://colab.research.google.com/github/indukuribhavana/python-programs/blob/main/Copy_of_String.ipynb\" target=\"_parent\"><img src=\"https://colab.research.google.com/assets/colab-badge.svg\" alt=\"Open In Colab\"/></a>"
      ]
    },
    {
      "cell_type": "code",
      "execution_count": null,
      "metadata": {
        "colab": {
          "base_uri": "https://localhost:8080/"
        },
        "id": "PAy44NSW7bob",
        "outputId": "dd7f93c6-56ec-4c6f-91fa-744903dad7f8"
      },
      "outputs": [
        {
          "output_type": "stream",
          "name": "stdout",
          "text": [
            "string\n",
            "<class 'str'>\n",
            "t\n"
          ]
        }
      ],
      "source": [
        "#string\n",
        "a=\"string\"\n",
        "print(a)\n",
        "print(type(a))\n",
        "print(a[1])"
      ]
    },
    {
      "cell_type": "code",
      "source": [
        "#length\n",
        "a=\"string\"\n",
        "print(len(a))\n"
      ],
      "metadata": {
        "colab": {
          "base_uri": "https://localhost:8080/"
        },
        "id": "uz_l80Zq7s3W",
        "outputId": "f9af4428-b548-47d2-ab2a-70be8773a4b3"
      },
      "execution_count": null,
      "outputs": [
        {
          "output_type": "stream",
          "name": "stdout",
          "text": [
            "6\n"
          ]
        }
      ]
    },
    {
      "cell_type": "code",
      "source": [
        "a=\"hello string\"\n",
        "print(len(a))"
      ],
      "metadata": {
        "colab": {
          "base_uri": "https://localhost:8080/"
        },
        "id": "pvxUOvaS8VYg",
        "outputId": "5104fd62-a1a2-492a-8fab-50b51017dc45"
      },
      "execution_count": null,
      "outputs": [
        {
          "output_type": "stream",
          "name": "stdout",
          "text": [
            "12\n"
          ]
        }
      ]
    },
    {
      "cell_type": "code",
      "source": [
        "a=\"Radhe shyam movie has been released\"\n",
        "print(\"Radhe shyam\" in a)"
      ],
      "metadata": {
        "colab": {
          "base_uri": "https://localhost:8080/"
        },
        "id": "XDGgWej68hvZ",
        "outputId": "4486cc16-762d-404e-c12c-76fecce1f4c0"
      },
      "execution_count": null,
      "outputs": [
        {
          "output_type": "stream",
          "name": "stdout",
          "text": [
            "True\n"
          ]
        }
      ]
    },
    {
      "cell_type": "code",
      "source": [
        "a=\"Radhe shyam movie has been released\"\n",
        "print(\"Radhe shyam\" not in a)"
      ],
      "metadata": {
        "colab": {
          "base_uri": "https://localhost:8080/"
        },
        "id": "V05VOqpW9Ukn",
        "outputId": "0873e563-5b96-4615-e1a9-aa72e9a76fcb"
      },
      "execution_count": null,
      "outputs": [
        {
          "output_type": "stream",
          "name": "stdout",
          "text": [
            "False\n"
          ]
        }
      ]
    },
    {
      "cell_type": "code",
      "source": [
        "a=\"RRR movie has been released\"\n",
        "print(a[2:5])"
      ],
      "metadata": {
        "colab": {
          "base_uri": "https://localhost:8080/"
        },
        "id": "TdRcyiv49u4I",
        "outputId": "60fc3637-16db-45e3-a901-f72d0bd0a96a"
      },
      "execution_count": null,
      "outputs": [
        {
          "output_type": "stream",
          "name": "stdout",
          "text": [
            "R m\n"
          ]
        }
      ]
    },
    {
      "cell_type": "markdown",
      "source": [
        "MODIFY STRING"
      ],
      "metadata": {
        "id": "oxgzLshdYH35"
      }
    },
    {
      "cell_type": "code",
      "source": [
        "#CONVERT THE STRING INTO UPPER CASE\n",
        "a= \"RRR has been released\"\n",
        "print(a.upper())\n",
        "\n",
        "#CONVERT THE STRING INTO LOWER\n",
        "a= \"RRR has been released \"\n",
        "print(a.lower())\n",
        "\n",
        "#REMOVE WHITESPACE\n",
        "a=\" RRR has been released \"\n",
        "print(a.strip())\n",
        "\n",
        "#REPLACE STRING\n",
        "a= \"RRR has been released\"\n",
        "print(a.replace(\"RRR\",\"radhe shyam\"))\n",
        "\n",
        "#SPLIT STRING\n",
        "a= \"RRR, has been replaced\"\n",
        "print(a.split(\",\"))"
      ],
      "metadata": {
        "id": "rER3EKEcYLVW",
        "outputId": "1110953b-00c8-47cb-a09a-21f2a64843cc",
        "colab": {
          "base_uri": "https://localhost:8080/"
        }
      },
      "execution_count": null,
      "outputs": [
        {
          "output_type": "stream",
          "name": "stdout",
          "text": [
            "RRR HAS BEEN RELEASED\n",
            "rrr has been released \n",
            "RRR has been released\n",
            "radhe shyam has been released\n",
            "['RRR', ' has been replaced']\n"
          ]
        }
      ]
    },
    {
      "cell_type": "markdown",
      "source": [
        "CONCATENATE STRINGS"
      ],
      "metadata": {
        "id": "-7u42bXvcT5x"
      }
    },
    {
      "cell_type": "code",
      "source": [
        "#STRING CONCATENATION\n",
        "a= \"akhila\"\n",
        "b= \"rakshitha\"\n",
        "#print(a+\" \"+b)\n"
      ],
      "metadata": {
        "id": "UTVFWHyMcbWW"
      },
      "execution_count": null,
      "outputs": []
    },
    {
      "cell_type": "markdown",
      "source": [
        "FORMAT STRINGS"
      ],
      "metadata": {
        "id": "toxnDAVpfIXw"
      }
    },
    {
      "cell_type": "code",
      "source": [
        "a=145\n",
        "b=\"hello ()\"\n",
        "print(b.format(a,b))\n",
        "\n",
        "price=150\n",
        "quantity=3\n",
        "item=1\n",
        "name=\"thumps up\"\n",
        "myorder=\"i bought {3} with {0} havig {1} and purchase {2}\"\n",
        "print(myorder.format(price,quantity,item,name))\n",
        "\n",
        "\n",
        "sub1=int(input(\"enter math marks\"))\n",
        "sub2=int(input(\"enter python marks\"))\n",
        "sub3=int(input(\"enter che marks\"))\n",
        "sub4=int(input(\"enter BEEE marks\"))\n",
        "sub5=int(input(\"enter phy marks\"))\n",
        "marks=\"my math marks are{0} python marks are{1} che marks are{2} BEEE marks are{3} phy marks are{4}\"\n",
        "print(marks.format(sub1,sub2,sub3,sub4,sub5))"
      ],
      "metadata": {
        "id": "AHa0cDvsfOzl",
        "outputId": "f6ad97a6-e32e-4504-d0cc-a46b2990a61a",
        "colab": {
          "base_uri": "https://localhost:8080/"
        }
      },
      "execution_count": null,
      "outputs": [
        {
          "output_type": "stream",
          "name": "stdout",
          "text": [
            "hello ()\n",
            "i bought thumps up with 150 havig 3 and purchase 1\n",
            "enter math marks89\n",
            "enter python marks87\n",
            "enter che marks80\n",
            "enter BEEE marks85\n",
            "enter phy marks90\n",
            "my math marks are89 python marks are87 che marks are80 BEEE marks are85 phy marks are90\n"
          ]
        }
      ]
    },
    {
      "cell_type": "markdown",
      "source": [
        "ESCAPE CHARACTERS"
      ],
      "metadata": {
        "id": "v1L63c1hltqW"
      }
    },
    {
      "cell_type": "code",
      "source": [
        "a=\"hello akhila \\\"hi\\\"\"\n",
        "print(a)\n",
        "b=\"hey rakshitha \\\\is mental\"\n",
        "print(b)\n",
        "c=\"hello \\ndivija\"\n",
        "print(c)\n",
        "d=\"hello \\tabhi\"\n",
        "print(d)\n",
        "e=\"hello\\bdhanush\"\n",
        "print(e)\n",
        "h=\"hello\\fvenkat\"\n",
        "print(h)\n",
        "#OCTAL VALUE\n",
        "a=\"\\110\\145\\154\\154\\157\"\n",
        "print(a)"
      ],
      "metadata": {
        "id": "tAwYPCUBlyAF",
        "outputId": "bfe1d599-bf33-42c1-cb40-6963e31e9d5e",
        "colab": {
          "base_uri": "https://localhost:8080/"
        }
      },
      "execution_count": null,
      "outputs": [
        {
          "output_type": "stream",
          "name": "stdout",
          "text": [
            "hello akhila \"hi\"\n",
            "hey rakshitha \\is mental\n",
            "hello \n",
            "divija\n",
            "hello \tabhi\n",
            "hello\bdhanush\n",
            "hello\fvenkat\n",
            "Hello\n"
          ]
        }
      ]
    },
    {
      "cell_type": "markdown",
      "source": [
        "STRING METHODS"
      ],
      "metadata": {
        "id": "Rq20zQSYqYLH"
      }
    },
    {
      "cell_type": "code",
      "source": [
        "a=\"akhila\"\n",
        "b=a.capitalize()\n",
        "print(b)\n",
        "\n",
        "a=\"Akhila\"\n",
        "b=a.casefold()\n",
        "print(b)\n",
        "\n",
        "a=\"akhila\"\n",
        "b=a.center(30)\n",
        "print(b)\n",
        "\n",
        "a=\" hello world welcome to my world\"\n",
        "b=a.count(\"\")\n",
        "print(b)\n",
        "print(len(a))"
      ],
      "metadata": {
        "id": "jVzEzCLEqcLT",
        "outputId": "ade085c1-dc15-4816-ff4f-a9887cd7c5e5",
        "colab": {
          "base_uri": "https://localhost:8080/"
        }
      },
      "execution_count": null,
      "outputs": [
        {
          "output_type": "stream",
          "name": "stdout",
          "text": [
            "Akhila\n",
            "akhila\n",
            "            akhila            \n",
            "33\n",
            "32\n"
          ]
        }
      ]
    }
  ]
}