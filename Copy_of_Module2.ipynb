{
  "nbformat": 4,
  "nbformat_minor": 0,
  "metadata": {
    "colab": {
      "name": "Copy of Module2.ipynb",
      "provenance": [],
      "collapsed_sections": [],
      "authorship_tag": "ABX9TyOdgXwebDbH8lETcsUYzxSZ",
      "include_colab_link": true
    },
    "kernelspec": {
      "name": "python3",
      "display_name": "Python 3"
    },
    "language_info": {
      "name": "python"
    }
  },
  "cells": [
    {
      "cell_type": "markdown",
      "metadata": {
        "id": "view-in-github",
        "colab_type": "text"
      },
      "source": [
        "<a href=\"https://colab.research.google.com/github/indukuribhavana/python-programs/blob/main/Copy_of_Module2.ipynb\" target=\"_parent\"><img src=\"https://colab.research.google.com/assets/colab-badge.svg\" alt=\"Open In Colab\"/></a>"
      ]
    },
    {
      "cell_type": "markdown",
      "source": [
        "MODULE 2"
      ],
      "metadata": {
        "id": "Ox5jm1U8oyfy"
      }
    },
    {
      "cell_type": "code",
      "source": [
        "#Create a function which accepts two inputs from the user and compute nCr\n",
        "def nCr(b,h):\n",
        "  return(fact(b)/(fact(h)\n",
        "                 *fact(b-h)))\n",
        "b=int(input(\"\")) \n",
        "h=int(input(\"\"))\n",
        "def fact(b):\n",
        "  res=1\n",
        "  for i in range(2,b+1):\n",
        "   res =res*i\n",
        "  return res\n",
        "print(int(nCr(b,h)))    "
      ],
      "metadata": {
        "colab": {
          "base_uri": "https://localhost:8080/"
        },
        "id": "YNvwkhUCo3Xp",
        "outputId": "0668a754-1fe8-4c51-e5bc-cc0089d8e2e1"
      },
      "execution_count": null,
      "outputs": [
        {
          "output_type": "stream",
          "name": "stdout",
          "text": [
            "5\n",
            "2\n",
            "10\n"
          ]
        }
      ]
    },
    {
      "cell_type": "code",
      "source": [
        "#Program to print a specified list after removing the 0th, 4th and 5th elements.\n",
        "#Sample List : ['Red', 'Green', 'White', 'Black', 'Pink', 'Yellow']\n",
        "#Expected Output : ['Green', 'White', 'Black']\n",
        "colour=['Red', 'Green', 'White', 'Black', 'Pink', 'Yellow']\n",
        "colour=[h for (i,h) in enumerate (colour) if i not in (0,4,5)]\n",
        "print(colour)"
      ],
      "metadata": {
        "colab": {
          "base_uri": "https://localhost:8080/"
        },
        "id": "aZjAXRLx2Ufg",
        "outputId": "a1c0b86b-9b1d-4418-c2fb-8df375a58435"
      },
      "execution_count": null,
      "outputs": [
        {
          "output_type": "stream",
          "name": "stdout",
          "text": [
            "['Green', 'White', 'Black']\n"
          ]
        }
      ]
    },
    {
      "cell_type": "code",
      "source": [
        "#Given list of tuples, remove all the tuples with length K.\n",
        "#Input : test_list = [(4, 5), (4, ), (8, 6, 7), (1, ), (3, 4, 6, 7)], K = 2\n",
        "#Output : [(4, ), (8, 6, 7), (1, ), (3, 4, 6, 7)]\n",
        "#Explanation : (4, 5) of len = 2 is removed.\n",
        "bhavana = [(4,5), (4, ), (8,6,7), (1, ), (3,4,6,7)]\n",
        "print(\"The original list : \" + str(bhavana))\n",
        "k = int(input(\"Enter the lenght of tuples you want to eliminate: \"))\n",
        "fin=[]\n",
        "for i in range (0,len(bhavana)):\n",
        "  if len(bhavana[i]) != k:\n",
        "    fin.append(bhavana[i])\n",
        "\n",
        "print(\"Filtered list : \" + str(fin))    "
      ],
      "metadata": {
        "colab": {
          "base_uri": "https://localhost:8080/"
        },
        "id": "7lKuo-rV5mIy",
        "outputId": "5baa001f-9ea1-4f32-bee3-d113c58bbdb9"
      },
      "execution_count": null,
      "outputs": [
        {
          "output_type": "stream",
          "name": "stdout",
          "text": [
            "The original list : [(4, 5), (4,), (8, 6, 7), (1,), (3, 4, 6, 7)]\n",
            "Enter the lenght of tuples you want to eliminate: 2\n",
            "Filtered list : [(4,), (8, 6, 7), (1,), (3, 4, 6, 7)]\n"
          ]
        }
      ]
    },
    {
      "cell_type": "code",
      "source": [
        "#Program to get the difference between the two lists\n",
        "b=[14,16,17,20,22]\n",
        "h=[15,17,19,21,23]\n",
        "diff_b_h=list(set(b)-set(h))\n",
        "diff_h_b=list(set(h)-set(b))\n",
        "total_diff=diff_b_h + diff_h_b\n",
        "print(total_diff)"
      ],
      "metadata": {
        "colab": {
          "base_uri": "https://localhost:8080/"
        },
        "id": "H52YJD-q9Txi",
        "outputId": "6795484e-4002-4669-ee7e-2aeaa0442300"
      },
      "execution_count": null,
      "outputs": [
        {
          "output_type": "stream",
          "name": "stdout",
          "text": [
            "[16, 20, 14, 22, 19, 23, 21, 15]\n"
          ]
        }
      ]
    },
    {
      "cell_type": "code",
      "source": [
        "#Given a list of numbers of list, write a Python program to create a list of tuples\n",
        "#having first element as the number and second element as the square of the number.\n",
        "bhavana = [23,45,67,89,93]\n",
        "print(\"The list is \")\n",
        "print(bhavana)\n",
        "print(\"The resultant tuple is :\")\n",
        "bhavana = [(val, pow(val, 2)) for val in bhavana]\n",
        "print(bhavana)"
      ],
      "metadata": {
        "colab": {
          "base_uri": "https://localhost:8080/"
        },
        "id": "BbqLjHFj_Wny",
        "outputId": "9e6322ad-c598-4096-dc3e-9e6d4aad9fed"
      },
      "execution_count": null,
      "outputs": [
        {
          "output_type": "stream",
          "name": "stdout",
          "text": [
            "The list is \n",
            "[23, 45, 67, 89, 93]\n",
            "The resultant tuple is :\n",
            "[(23, 529), (45, 2025), (67, 4489), (89, 7921), (93, 8649)]\n"
          ]
        }
      ]
    },
    {
      "cell_type": "code",
      "source": [
        "#x Given list of tuples, remove all the tuples with length K.\n",
        "#Input : test_list = [(4, 5), (4, ), (8, 6, 7), (1, ), (3, 4, 6, 7)], K = 2\n",
        "#Output : [(4, ), (8, 6, 7), (1, ), (3, 4, 6, 7)]\n",
        "#Explanation : (4, 5) of len = 2 is removed.\n",
        "h=int(input(\"input a number\"))\n",
        "v = dict()\n",
        "\n",
        "for x in range(1,h+1):\n",
        "  v[x]=x*x\n",
        "  \n",
        "  print(v)"
      ],
      "metadata": {
        "colab": {
          "base_uri": "https://localhost:8080/"
        },
        "id": "IHvxhUCFBf4q",
        "outputId": "e7d84544-84a4-4db7-a9a2-b4c92a62561b"
      },
      "execution_count": null,
      "outputs": [
        {
          "output_type": "stream",
          "name": "stdout",
          "text": [
            "input a number3\n",
            "{1: 1}\n",
            "{1: 1, 2: 4}\n",
            "{1: 1, 2: 4, 3: 9}\n"
          ]
        }
      ]
    },
    {
      "cell_type": "code",
      "source": [
        "#Program to remove a key from a dictionary\n",
        "bhavana = {'d':4,'c':3,'b':2,'a':1}\n",
        "print(bhavana)\n",
        "if 'd' in bhavana:\n",
        "  del bhavana['d']\n",
        "print(bhavana) \n",
        "\n"
      ],
      "metadata": {
        "colab": {
          "base_uri": "https://localhost:8080/"
        },
        "id": "P48W4M_FCrLS",
        "outputId": "945cbe54-acfe-4607-920c-83526e3b6884"
      },
      "execution_count": null,
      "outputs": [
        {
          "output_type": "stream",
          "name": "stdout",
          "text": [
            "{'d': 4, 'c': 3, 'b': 2, 'a': 1}\n",
            "{'c': 3, 'b': 2, 'a': 1}\n"
          ]
        }
      ]
    },
    {
      "cell_type": "code",
      "source": [
        "##Program to generate and print a dictionary that contains a number (between 1\n",
        "##and n) in the form (x, x*x). \n",
        "\n",
        "h=int(input(\"input a number\"))\n",
        "d = dict()\n",
        "\n",
        "for x in range(1,h+1):\n",
        "  d[x]=x*x\n",
        "\n",
        "  print(d)"
      ],
      "metadata": {
        "id": "d6_wKDRzTYlM",
        "outputId": "7dd246a3-f090-442f-e313-8a7e5818e092",
        "colab": {
          "base_uri": "https://localhost:8080/"
        }
      },
      "execution_count": null,
      "outputs": [
        {
          "output_type": "stream",
          "name": "stdout",
          "text": [
            "input a number2\n",
            "{1: 1}\n",
            "{1: 1, 2: 4}\n"
          ]
        }
      ]
    },
    {
      "cell_type": "code",
      "source": [
        "##Program to get the maximum and minimum value in a dictionary\n",
        "my_numbers={\"4\":64,\"7\":74,\"9\":6,\"8\":89}\n",
        "max_value=max(my_numbers, key=my_numbers.get)\n",
        "min_value=min(my_numbers, key=my_numbers.get)\n",
        "print(\"the maximum value of a given numbers has a key:'\"+max_value+\"' and its value is:\",my_numbers[max_value])\n",
        "print(\"the minimum value of a given numbers has a key:'\"+min_value+\"' and its value is:\",my_numbers[min_value])"
      ],
      "metadata": {
        "id": "p5Ms03R1iG8z",
        "outputId": "d5b4e018-ff55-411f-8050-d4c2b449f7e3",
        "colab": {
          "base_uri": "https://localhost:8080/"
        }
      },
      "execution_count": null,
      "outputs": [
        {
          "output_type": "stream",
          "name": "stdout",
          "text": [
            "the maximum value of a given numbers has a key:'8' and its value is: 89\n",
            "the minimum value of a given numbers has a key:'9' and its value is: 6\n"
          ]
        }
      ]
    },
    {
      "cell_type": "code",
      "source": [
        "##Program for counting occurrence of a certai element in a string,getting indexes that have matching elements.\n",
        "##for ex-"
      ],
      "metadata": {
        "id": "wLigYBhVjwLR"
      },
      "execution_count": null,
      "outputs": []
    }
  ]
}