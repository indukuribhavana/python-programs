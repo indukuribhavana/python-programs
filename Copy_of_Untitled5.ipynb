{
  "nbformat": 4,
  "nbformat_minor": 0,
  "metadata": {
    "colab": {
      "name": "Copy of Untitled5.ipynb",
      "provenance": [],
      "collapsed_sections": [],
      "authorship_tag": "ABX9TyOt/frTilKXSypTrc1QzmVp",
      "include_colab_link": true
    },
    "kernelspec": {
      "name": "python3",
      "display_name": "Python 3"
    },
    "language_info": {
      "name": "python"
    }
  },
  "cells": [
    {
      "cell_type": "markdown",
      "metadata": {
        "id": "view-in-github",
        "colab_type": "text"
      },
      "source": [
        "<a href=\"https://colab.research.google.com/github/indukuribhavana/python-programs/blob/main/Copy_of_Untitled5.ipynb\" target=\"_parent\"><img src=\"https://colab.research.google.com/assets/colab-badge.svg\" alt=\"Open In Colab\"/></a>"
      ]
    },
    {
      "cell_type": "code",
      "execution_count": null,
      "metadata": {
        "colab": {
          "base_uri": "https://localhost:8080/"
        },
        "id": "7F5Rqwf0k9Ct",
        "outputId": "25b2e9f6-a196-45d1-c73a-bccf4b768790"
      },
      "outputs": [
        {
          "output_type": "stream",
          "name": "stdout",
          "text": [
            "2 2\n",
            "without recursion= 4\n"
          ]
        }
      ],
      "source": [
        "##write a python program to find power of number with recursion and without recursion(input n=2 , p=3)\n",
        "#without recursion\n",
        "def pwr(x,y):\n",
        "  z=1\n",
        "  if y>1:\n",
        "    z=x*pwr(x,y-1)\n",
        "    return z\n",
        "  else:\n",
        "      return x  \n",
        "a,b=map(int,input().split())  \n",
        "#pow(a,b)\n",
        "r=pwr(a,b)\n",
        "print(\"without recursion=\",r)"
      ]
    },
    {
      "cell_type": "code",
      "source": [
        "#write a program to sort tuple by total digits (input: list=[(3,4,6,723),(1,2),(134,234,34)])\n",
        " #     output:[(1,2)(3,4,6,723)(34,134,234)]\n",
        "a=eval(input(\"enter list of tuples=\"))\n",
        "for i in range(0,len(a)):\n",
        "  a[i]=sorted(a[i])\n",
        "print(sorted(a))"
      ],
      "metadata": {
        "colab": {
          "base_uri": "https://localhost:8080/"
        },
        "id": "qlF9_Cx1pO64",
        "outputId": "75f9ba06-c887-456a-98ac-b4aacd35aac3"
      },
      "execution_count": null,
      "outputs": [
        {
          "output_type": "stream",
          "name": "stdout",
          "text": [
            "enter list of tuples=[(3,4,6,723),(1,2),(134,234,34)]\n",
            "[[1, 2], [3, 4, 6, 723], [34, 134, 234]]\n"
          ]
        }
      ]
    },
    {
      "cell_type": "code",
      "source": [
        "#Take five subjects from the user and display the grade of the student,if average is 90-100(o),80-89(a+),70-79(a)...\n",
        "a=int(input(\"enter eng marks: \"))\n",
        "b=int(input(\"enter python marks: \"))\n",
        "c=int(input(\"enter math marks: \"))\n",
        "d=int(input(\"enter phy marks: \"))\n",
        "e=int(input(\"enter che marks: \"))\n",
        "avg=(a+b+c+d+e)/5\n",
        "if avg>=90:\n",
        "  print(\"0\")\n",
        "elif avg>=80:\n",
        "  print(\"A+\")\n",
        "elif avg>=70:\n",
        "  print(\"A\")\n",
        "elif avg>=60:\n",
        "  print(\"B+\")\n",
        "elif avg>50:\n",
        "  print(\"B\")\n",
        "else:\n",
        "  print(\"FAIL\")         "
      ],
      "metadata": {
        "colab": {
          "base_uri": "https://localhost:8080/"
        },
        "id": "sRQnP8Q-uPYN",
        "outputId": "84d0bcd6-5f20-4626-cac5-5a0be5590756"
      },
      "execution_count": null,
      "outputs": [
        {
          "output_type": "stream",
          "name": "stdout",
          "text": [
            "enter eng marks: 90\n",
            "enter python marks: 98\n",
            "enter math marks: 89\n",
            "enter phy marks: 90\n",
            "enter che marks: 97\n",
            "0\n"
          ]
        }
      ]
    },
    {
      "cell_type": "code",
      "source": [
        "#write a python program that prints 1 if all three given numbers are ascending order.\n",
        "a=int(input(\"enter a number: \"))\n",
        "b=int(input(\"enter a number: \"))\n",
        "c=int(input(\"enter a number: \"))\n",
        "\n",
        "if b!=a+1 or c!=b+1: \n",
        "  print(0)\n",
        "elif b==a+1 and c==b+1:\n",
        "  print(1)  "
      ],
      "metadata": {
        "colab": {
          "base_uri": "https://localhost:8080/"
        },
        "id": "3HbeVpQFxamV",
        "outputId": "647472a6-5f22-4619-8593-759bb2e73ab7"
      },
      "execution_count": null,
      "outputs": [
        {
          "output_type": "stream",
          "name": "stdout",
          "text": [
            "enter a number: 7\n",
            "enter a number: 9\n",
            "enter a number: 10\n",
            "0\n"
          ]
        }
      ]
    },
    {
      "cell_type": "code",
      "source": [
        "#check a given number is perfect number are not.\n",
        "n=int(input(\"Enter a number: \"))\n",
        "sum1=0\n",
        "for i in range(1,n):\n",
        " if(n % i == 0):\n",
        "    sum1 = sum1 + i\n",
        "if(sum1 == n):\n",
        "    print(\"The number is a perfect number! \")\n",
        "else:\n",
        "     print(\"The number is not a perfect number!\")   "
      ],
      "metadata": {
        "colab": {
          "base_uri": "https://localhost:8080/"
        },
        "id": "ZukeBwS4yywU",
        "outputId": "e3fb75a0-d816-422a-91ff-4fc108fd06be"
      },
      "execution_count": null,
      "outputs": [
        {
          "output_type": "stream",
          "name": "stdout",
          "text": [
            "Enter a number: 5\n",
            "The number is not a perfect number!\n"
          ]
        }
      ]
    }
  ]
}