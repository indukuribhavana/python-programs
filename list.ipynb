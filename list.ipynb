{
  "nbformat": 4,
  "nbformat_minor": 0,
  "metadata": {
    "colab": {
      "name": "list.ipynb",
      "provenance": [],
      "collapsed_sections": [],
      "authorship_tag": "ABX9TyMFlDNsLzHsdVqxZ9L8BAqa",
      "include_colab_link": true
    },
    "kernelspec": {
      "name": "python3",
      "display_name": "Python 3"
    },
    "language_info": {
      "name": "python"
    }
  },
  "cells": [
    {
      "cell_type": "markdown",
      "metadata": {
        "id": "view-in-github",
        "colab_type": "text"
      },
      "source": [
        "<a href=\"https://colab.research.google.com/github/indukuribhavana/python-programs/blob/main/list.ipynb\" target=\"_parent\"><img src=\"https://colab.research.google.com/assets/colab-badge.svg\" alt=\"Open In Colab\"/></a>"
      ]
    },
    {
      "cell_type": "code",
      "execution_count": 7,
      "metadata": {
        "colab": {
          "base_uri": "https://localhost:8080/"
        },
        "id": "wzA1Uh__WbW-",
        "outputId": "0452572f-f035-4a9d-f9e5-96b1698511a9"
      },
      "outputs": [
        {
          "output_type": "stream",
          "name": "stdout",
          "text": [
            "apple,banana,watermelon,pineapple,mango\n"
          ]
        }
      ],
      "source": [
        "fruit=(\"apple,banana,watermelon,pineapple,mango\")\n",
        "print(fruit)\n",
        "\n"
      ]
    },
    {
      "cell_type": "code",
      "source": [
        "fruit=(\"apple,banana,watermelon,pineapple,mango\")\n",
        "print(fruit[0])"
      ],
      "metadata": {
        "colab": {
          "base_uri": "https://localhost:8080/"
        },
        "id": "D4cBRZy1YBmI",
        "outputId": "659922ac-db37-471a-a5fe-40e4f501f00d"
      },
      "execution_count": 8,
      "outputs": [
        {
          "output_type": "stream",
          "name": "stdout",
          "text": [
            "a\n"
          ]
        }
      ]
    },
    {
      "cell_type": "code",
      "source": [
        "fruit=(\"apple,banana,watermelon,pineapple,mango\")\n",
        "print(fruit[-1])"
      ],
      "metadata": {
        "colab": {
          "base_uri": "https://localhost:8080/"
        },
        "id": "3iMTgraFYRug",
        "outputId": "714a165e-9dbf-4b78-e366-04e08bdd209b"
      },
      "execution_count": 9,
      "outputs": [
        {
          "output_type": "stream",
          "name": "stdout",
          "text": [
            "o\n"
          ]
        }
      ]
    },
    {
      "cell_type": "code",
      "source": [
        "fruit=[\"apple\",\"banana\",\"watermelon\",\"pineapple\"]\n",
        "print(fruit)\n",
        "print(fruit[0:2])\n",
        "print(fruit[:2])\n",
        "print(fruit[1:2])\n",
        "print(fruit[:1])"
      ],
      "metadata": {
        "colab": {
          "base_uri": "https://localhost:8080/"
        },
        "id": "u2pWoasbYbUR",
        "outputId": "17d13fcf-f12d-4f18-a706-2359dd801ed5"
      },
      "execution_count": 13,
      "outputs": [
        {
          "output_type": "stream",
          "name": "stdout",
          "text": [
            "['apple', 'banana', 'watermelon']\n",
            "['apple', 'banana']\n",
            "['apple', 'banana']\n",
            "['banana']\n",
            "['apple']\n"
          ]
        }
      ]
    },
    {
      "cell_type": "code",
      "source": [
        ""
      ],
      "metadata": {
        "id": "2hUoUKJOZD3B"
      },
      "execution_count": null,
      "outputs": []
    },
    {
      "cell_type": "markdown",
      "source": [
        "Append"
      ],
      "metadata": {
        "id": "ZBchSDVYaKCy"
      }
    },
    {
      "cell_type": "markdown",
      "source": [
        "Append,Insert,Remove,Pop,Delete,clear,sort,sort in desending,alph sort\n"
      ],
      "metadata": {
        "id": "entSm4Qcmya4"
      }
    },
    {
      "cell_type": "code",
      "source": [
        "fruit=[\"apple\",\"banana\",\"watermelon\",\"pineapple\"]\n",
        "print(fruit)\n",
        "fruit.append(\"papaya\")\n",
        "print(fruit)\n",
        "##inserting into list\n",
        "fruit.insert(0,\"orange\")\n",
        "print(fruit)\n",
        "##removing from list \n",
        "fruit.remove(\"pineapple\")\n",
        "print(fruit)"
      ],
      "metadata": {
        "colab": {
          "base_uri": "https://localhost:8080/"
        },
        "id": "nT2yu27Iag1n",
        "outputId": "76578253-0f87-4e52-cc3a-38d1759cc9c4"
      },
      "execution_count": 51,
      "outputs": [
        {
          "output_type": "stream",
          "name": "stdout",
          "text": [
            "['apple', 'banana', 'watermelon', 'pineapple']\n",
            "['apple', 'banana', 'watermelon', 'pineapple', 'papaya']\n",
            "['orange', 'apple', 'banana', 'watermelon', 'pineapple', 'papaya']\n",
            "['orange', 'apple', 'banana', 'watermelon', 'papaya']\n"
          ]
        }
      ]
    },
    {
      "cell_type": "code",
      "source": [
        "numbers=[\"1\",\"2\",\"3\",\"4\",\"5\",\"6\"]\n",
        "print(num)\n",
        "#pop and remove\n",
        "numbers.remove(\"3\")\n",
        "print(num)\n",
        "numbers.pop(4)\n",
        "#delete\n",
        "del num[1]\n",
        "print(num)\n",
        "#clear \n",
        "numbers.clear()\n",
        "print(num)\n",
        "#Sort\n",
        "num=[10,20,30,45,50]\n",
        "num.sort()\n",
        "print(num)\n",
        "#Sort in desending\n",
        "num=[10,20,30,45,50]\n",
        "num.sort(reverse=True)\n",
        "print(num)\n",
        "#alph sort\n",
        "alph=[\"b\",\"h\",\"a\",\"v\",\"n\"]\n",
        "alph.sort()\n",
        "print(num)\n",
        "\n"
      ],
      "metadata": {
        "colab": {
          "base_uri": "https://localhost:8080/"
        },
        "id": "93t0cDF2ei5a",
        "outputId": "0a6695ac-e66b-4913-8257-220a8767dafb"
      },
      "execution_count": 52,
      "outputs": [
        {
          "output_type": "stream",
          "name": "stdout",
          "text": [
            "[50, 45, 30, 20, 10]\n",
            "[50, 45, 30, 20, 10]\n",
            "[50, 30, 20, 10]\n",
            "[50, 30, 20, 10]\n",
            "[10, 20, 30, 45, 50]\n",
            "[50, 45, 30, 20, 10]\n",
            "[50, 45, 30, 20, 10]\n"
          ]
        }
      ]
    }
  ]
}