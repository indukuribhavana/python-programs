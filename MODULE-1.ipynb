{
  "nbformat": 4,
  "nbformat_minor": 0,
  "metadata": {
    "colab": {
      "name": "Untitled3.ipynb",
      "provenance": [],
      "collapsed_sections": [],
      "authorship_tag": "ABX9TyPQRCXwoLkto312vE2biCI1",
      "include_colab_link": true
    },
    "kernelspec": {
      "name": "python3",
      "display_name": "Python 3"
    },
    "language_info": {
      "name": "python"
    }
  },
  "cells": [
    {
      "cell_type": "markdown",
      "metadata": {
        "id": "view-in-github",
        "colab_type": "text"
      },
      "source": [
        "<a href=\"https://colab.research.google.com/github/indukuribhavana/python-programs/blob/main/MODULE-1.ipynb\" target=\"_parent\"><img src=\"https://colab.research.google.com/assets/colab-badge.svg\" alt=\"Open In Colab\"/></a>"
      ]
    },
    {
      "cell_type": "markdown",
      "source": [
        "MODULE-1"
      ],
      "metadata": {
        "id": "U87QCqhgNPEW"
      }
    },
    {
      "cell_type": "code",
      "source": [
        "#ACCEPT INPUT FROM USER STORE IT IN VARIABLE AND PRINT THE VALUE\n",
        "a=int(input(\"Enter the value\"))\n",
        "print(a)"
      ],
      "metadata": {
        "colab": {
          "base_uri": "https://localhost:8080/"
        },
        "id": "Rodj7UWJQDaE",
        "outputId": "5e813d3a-38d4-4a94-ca54-e8812aa3874f"
      },
      "execution_count": 5,
      "outputs": [
        {
          "output_type": "stream",
          "name": "stdout",
          "text": [
            "Enter the value5\n",
            "5\n"
          ]
        }
      ]
    },
    {
      "cell_type": "code",
      "source": [
        "#USE OF PRINT STATEMENTS AND USE OF (.format) FOR PRINTING DIFFERENT DATA TYPES\n",
        "price=150\n",
        "quantity=3\n",
        "item=1\n",
        "name=\"Thumpsup\"\n",
        "myorder=\"I bought {3} with {0} having {1} and purchased {2}\"\n",
        "print(myorder.format(price,quantity,item,name))"
      ],
      "metadata": {
        "colab": {
          "base_uri": "https://localhost:8080/"
        },
        "id": "UfsW8G-JRXqh",
        "outputId": "1d1d3aaf-40d9-4699-e015-27c0b27c5d4b"
      },
      "execution_count": 6,
      "outputs": [
        {
          "output_type": "stream",
          "name": "stdout",
          "text": [
            "I bought Thumpsup with 150 having 3 and purchased 1\n"
          ]
        }
      ]
    },
    {
      "cell_type": "code",
      "source": [
        "#TAKE TWO NUMBERS AS USER INPUT AND ADD,MULTIPLY,DIVIDE,SUBTRACT,REMAINDER AND PRINT THE OUTPUT(SSAME OPERATIONS ON FLOATING POINT INPUT AS WELL)\n",
        "a=float(input(\"enter a number\"))\n",
        "b=float(input(\"enter a number\"))\n",
        "c=a+b\n",
        "d=a-b\n",
        "e=a*b\n",
        "f=a/b\n",
        "g=a%b\n",
        "print(\"sum= \",c)\n",
        "print(\"subtract= \",d)\n",
        "print(\"product= \",e)\n",
        "print(\"divisor= \",f)\n",
        "print(\"remainder= \",g)"
      ],
      "metadata": {
        "colab": {
          "base_uri": "https://localhost:8080/"
        },
        "id": "bHDjCaAAOdIf",
        "outputId": "96424c02-a231-4466-d0cb-69c592a7894c"
      },
      "execution_count": null,
      "outputs": [
        {
          "output_type": "stream",
          "name": "stdout",
          "text": [
            "enter a number4\n",
            "sum=  8.0\n",
            "subtract=  0.0\n",
            "product=  16.0\n",
            "divisor=  1.0\n",
            "remainder=  0.0\n"
          ]
        }
      ]
    },
    {
      "cell_type": "code",
      "source": [
        "#CONVERSATION OF ONE UNIT TO ANOTHER (SUCH AS HOURS TO MINUTES,MILES TO Km AND ETC)\n",
        "a=float(input(\"enter hours\"))\n",
        "print(\"minutes are= \",a*60)\n",
        "b=float(input(\"enter miles\"))\n",
        "print(\"km are= \",b*1.6)"
      ],
      "metadata": {
        "colab": {
          "base_uri": "https://localhost:8080/"
        },
        "id": "se6pf5p3P2yh",
        "outputId": "a5e40869-1d10-4034-d49a-ef740664f37a"
      },
      "execution_count": null,
      "outputs": [
        {
          "output_type": "stream",
          "name": "stdout",
          "text": [
            "enter hours4\n",
            "minutes are=  240.0\n",
            "enter miles5.6\n",
            "km are=  8.959999999999999\n"
          ]
        }
      ]
    },
    {
      "cell_type": "code",
      "source": [
        "#USAGE OF MATHEMATICAL FUNCTIONS IN PYTHON LIKE math.ceil, floor, fabs, fmod, trunc, pow, sqrt etc\n",
        "import math\n",
        "a=float(input(\"enter a number\"))\n",
        "print(math.ceil(a))\n",
        "print(math.floor(a))\n",
        "print(math.fabs(a))\n",
        "print(math.trunc(a))\n",
        "print(math.sqrt(a))\n",
        "b=float(input(\"enter a number\"))\n",
        "c=float(input(\"enter a number\"))\n",
        "print(math.fmod(b,c))\n",
        "print(math.pow(b,c))"
      ],
      "metadata": {
        "colab": {
          "base_uri": "https://localhost:8080/"
        },
        "id": "0vPq3VFKQ7xm",
        "outputId": "1eb29dc0-195f-4648-ecc7-4d39673056b1"
      },
      "execution_count": null,
      "outputs": [
        {
          "output_type": "stream",
          "name": "stdout",
          "text": [
            "enter a number5\n",
            "5\n",
            "5\n",
            "5.0\n",
            "5\n",
            "2.23606797749979\n",
            "enter a number7\n",
            "enter a number8\n",
            "7.0\n",
            "5764801.0\n"
          ]
        }
      ]
    },
    {
      "cell_type": "code",
      "source": [
        "#BUILDING A MATHEMATICAL CALCULATOR THAT CAN PERFORM OPERATIONS ACCORDING TO USER INPUT.USE DECISION MAKING STATEMENT.\n",
        "a=float(input(\"enter number\"))\n",
        "b=float(input(\"enter a number\"))\n",
        "o=input(\"enter operation\")\n",
        "if o==\"sum\":\n",
        "  print(a+b)\n",
        "elif o==\"subtract\":  \n",
        "  print(a-b)\n",
        "elif o==\"product\":\n",
        "  print(a*b)\n",
        "elif o==\"remainder\":\n",
        "  print(a%b)\n",
        "else:\n",
        "  print(a/b)      \n"
      ],
      "metadata": {
        "colab": {
          "base_uri": "https://localhost:8080/"
        },
        "id": "YVWuCCt8RtZr",
        "outputId": "e9cde189-4b21-404e-9f26-0fe018a5d26c"
      },
      "execution_count": null,
      "outputs": [
        {
          "output_type": "stream",
          "name": "stdout",
          "text": [
            "enter number6\n",
            "enter a number9\n",
            "enter operation5\n",
            "0.6666666666666666\n"
          ]
        }
      ]
    },
    {
      "cell_type": "code",
      "source": [
        "#ACCEPT 5 DIFFERENT SUBJECT MARKS FROM USER AND DISPLAYING THE GRADE OF THE STUDENT\n",
        "s1=float(input(\"enter marks\"))\n",
        "s2=float(input(\"enter marks\"))\n",
        "s3=float(input(\"enter marks\"))\n",
        "s4=float(input(\"enter marks\"))\n",
        "s5=float(input(\"enter marks\"))\n",
        "avg=(s1+s2+s3+s4+s5)/5\n",
        "if avg>=90:\n",
        "  print(\"a grade\")\n",
        "elif avg>=80:\n",
        "  print(\"b grade\") \n",
        "elif avg>=70:\n",
        "  print(\"c grade\")\n",
        "elif avg>=60:\n",
        "  print(\"d grade\")\n",
        "else:\n",
        "  print(\"fail\")  \n"
      ],
      "metadata": {
        "colab": {
          "base_uri": "https://localhost:8080/"
        },
        "id": "AMm7QqmNUj8l",
        "outputId": "efd00a23-56f0-4c55-c303-34e16c9976ef"
      },
      "execution_count": null,
      "outputs": [
        {
          "output_type": "stream",
          "name": "stdout",
          "text": [
            "enter marks90\n",
            "enter marks89\n",
            "enter marks90\n",
            "enter marks87\n",
            "enter marks88\n",
            "b grade\n"
          ]
        }
      ]
    },
    {
      "cell_type": "code",
      "source": [
        "#PRINTING ALL EVEN NUMBERS,ODD NUMBERS,COUNT OF ODD NUMBERS WITHIN A GIVEN RANGE\n",
        "n=int(input(\"enter range\"))\n",
        "c=0\n",
        "for i in range(1,n+1):\n",
        "  if i%2==0:\n",
        "    c+=1\n",
        "    print(i)\n",
        "\n",
        "print(\"even count is \",c)\n",
        "\n",
        "d=0\n",
        "for i in range(1,n+1):\n",
        "  if i%2==0:\n",
        "    c+=1\n",
        "    print(i)\n",
        "\n",
        "print(\"odd count is \",d)    \n",
        "\n",
        "\n",
        "#COMPUTE FACTORIAL OF TWO GIVEN NUMBER\n",
        "n=int(input(\"enter a number\"))\n",
        "fac=1\n",
        "for i in range(1,n+1):\n",
        "  fac=fac*i\n",
        "print(fac)\n",
        "\n",
        "\n",
        "#Compute GCD of two given \n",
        "a=int(input(\"enter a number\"))\n",
        "b=int(input(\"enter a number\"))\n",
        "k=a if a<b else b\n",
        "while True:\n",
        "    if a%k==0 and b%k==0:\n",
        "     break\n",
        "    k -=1\n",
        "print(k)  "
      ],
      "metadata": {
        "colab": {
          "base_uri": "https://localhost:8080/"
        },
        "id": "4-M8fZxYVIuX",
        "outputId": "2d52f993-5679-4dee-be9b-e2569cf07630"
      },
      "execution_count": 7,
      "outputs": [
        {
          "output_type": "stream",
          "name": "stdout",
          "text": [
            "enter range20\n",
            "2\n",
            "4\n",
            "6\n",
            "8\n",
            "10\n",
            "12\n",
            "14\n",
            "16\n",
            "18\n",
            "20\n",
            "even count is  10\n",
            "2\n",
            "4\n",
            "6\n",
            "8\n",
            "10\n",
            "12\n",
            "14\n",
            "16\n",
            "18\n",
            "20\n",
            "odd count is  0\n",
            "enter a number10\n",
            "3628800\n",
            "enter a number5\n",
            "enter a number6\n",
            "1\n"
          ]
        }
      ]
    }
  ]
}