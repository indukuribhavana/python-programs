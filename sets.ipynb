{
  "nbformat": 4,
  "nbformat_minor": 0,
  "metadata": {
    "colab": {
      "name": "sets.ipynb",
      "provenance": [],
      "collapsed_sections": [],
      "authorship_tag": "ABX9TyMfSzj9m3kZZS+OLolTRCMm",
      "include_colab_link": true
    },
    "kernelspec": {
      "name": "python3",
      "display_name": "Python 3"
    },
    "language_info": {
      "name": "python"
    }
  },
  "cells": [
    {
      "cell_type": "markdown",
      "metadata": {
        "id": "view-in-github",
        "colab_type": "text"
      },
      "source": [
        "<a href=\"https://colab.research.google.com/github/indukuribhavana/python-programs/blob/main/sets.ipynb\" target=\"_parent\"><img src=\"https://colab.research.google.com/assets/colab-badge.svg\" alt=\"Open In Colab\"/></a>"
      ]
    },
    {
      "cell_type": "code",
      "execution_count": 21,
      "metadata": {
        "colab": {
          "base_uri": "https://localhost:8080/"
        },
        "id": "rGC-sqZjMDB0",
        "outputId": "5ec70bf9-cbee-4ed5-affb-beefb8bea1ac"
      },
      "outputs": [
        {
          "output_type": "stream",
          "name": "stdout",
          "text": [
            "{'rakshitha', 'bhanu', 'dhanush'}\n",
            "True\n",
            "{'venkat', 'rakshitha', 'bhanu', 'dhanush'}\n",
            "{'venkat', 'rakshitha', 'dhanush', 'bhanu', 'akhila'}\n",
            "{'rakshitha', 'bhanu'}\n",
            "{'rakshitha', 'dhanush'}\n",
            "rakshitha\n",
            "{'bhanu', 'dhanush'}\n",
            "set()\n",
            "{'rakshitha', 'bhanu', 'dhanush'}\n",
            "rakshitha\n",
            "bhanu\n",
            "dhanush\n",
            "{'venkat', 'rakshitha', 'dhanush', 'bhanu', 'akhila'}\n",
            "{'venkat', 'rakshitha', 'dhanush', 'bhanu', 'akhila'}\n"
          ]
        }
      ],
      "source": [
        "#PYTHON SETS\n",
        "a={\"rakshitha\",\"dhanush\",\"bhanu\"}\n",
        "print(a)\n",
        "\n",
        "#ACCESS SET ITEMS\n",
        "a={\"rakshitha\",\"dhanush\",\"bhanu\"}\n",
        "print(\"bhanu\" in a)\n",
        "\n",
        "#ADD SET ITEMS\n",
        "a={\"rakshitha\",\"dhanush\",\"bhanu\"}\n",
        "a.add(\"venkat\")\n",
        "print(a)\n",
        "\n",
        "a={\"rakshitha\",\"dhanush\",\"bhanu\"}\n",
        "b={\"venkat\",\"akhila\"}\n",
        "a.update(b)\n",
        "print(a)\n",
        "\n",
        "#REMOVE SET ITEMS\n",
        "a={\"rakshitha\",\"dhanush\",\"bhanu\"}\n",
        "a.remove(\"dhanush\")\n",
        "print(a)\n",
        "\n",
        "a={\"rakshitha\",\"dhanush\",\"bhanu\"}\n",
        "a.discard(\"bhanu\")\n",
        "print(a)\n",
        "\n",
        "a={\"rakshitha\",\"dhanush\",\"bhanu\"}\n",
        "b=a.pop()\n",
        "print(b)\n",
        "print(a)\n",
        "\n",
        "a={\"rakshitha\",\"dhanush\",\"bhanu\"}\n",
        "a.clear()\n",
        "print(a)\n",
        "\n",
        "a = {\"rakshitha\",\"dhanush\",\"bhanu\"}\n",
        "del(b)\n",
        "print(a)\n",
        "\n",
        "#LOOP SETS\n",
        "a={\"rakshitha\",\"dhanush\",\"bhanu\"}\n",
        "for b in a:\n",
        "  print(b)\n",
        "\n",
        "\n",
        "#JOIN TWO SETS\n",
        "a={\"rakshitha\",\"dhanush\",\"bhanu\"}\n",
        "b={\"venkat\",\"akhila\"}\n",
        "c=a.union(b)\n",
        "print(c)\n",
        "\n",
        "\n",
        "a={\"rakshitha\",\"dhanush\",\"bhanu\"}\n",
        "b={\"venkat\",\"akhila\"}\n",
        "a.update(b)\n",
        "print(a)\n"
      ]
    }
  ]
}