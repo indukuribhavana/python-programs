{
  "nbformat": 4,
  "nbformat_minor": 0,
  "metadata": {
    "colab": {
      "name": "while loop python.ipynb",
      "provenance": [],
      "collapsed_sections": [],
      "authorship_tag": "ABX9TyMBgJ68YtUQ4VBqV0N7+iG2",
      "include_colab_link": true
    },
    "kernelspec": {
      "name": "python3",
      "display_name": "Python 3"
    },
    "language_info": {
      "name": "python"
    }
  },
  "cells": [
    {
      "cell_type": "markdown",
      "metadata": {
        "id": "view-in-github",
        "colab_type": "text"
      },
      "source": [
        "<a href=\"https://colab.research.google.com/github/indukuribhavana/python-programs/blob/main/while_loop_python.ipynb\" target=\"_parent\"><img src=\"https://colab.research.google.com/assets/colab-badge.svg\" alt=\"Open In Colab\"/></a>"
      ]
    },
    {
      "cell_type": "code",
      "execution_count": 1,
      "metadata": {
        "colab": {
          "base_uri": "https://localhost:8080/"
        },
        "id": "ZkOSlXSWL91O",
        "outputId": "e121b35f-9e4f-4202-b0a9-470c6e34bd49"
      },
      "outputs": [
        {
          "output_type": "stream",
          "name": "stdout",
          "text": [
            "input lenghts of the sides: \n",
            "x: 6\n",
            "y:8\n",
            "z:12\n",
            "Scalene triangle\n"
          ]
        }
      ],
      "source": [
        "#checking whether the triangle is equilateral,isosceles,or scalene triangle.\n",
        "print(\"input lenghts of the sides: \")\n",
        "x = int(input(\"x: \"))\n",
        "y = int(input(\"y:\"))\n",
        "z = int(input(\"z:\"))\n",
        "if x == y == z:\n",
        "  print(\"Equilateral triangle\")\n",
        "elif x==y or y==z or z==x:\n",
        "  print(\"Isosceles triangle\")\n",
        "else:\n",
        "  print(\"Scalene triangle\")         "
      ]
    },
    {
      "cell_type": "code",
      "source": [
        "#check whether entered year is a leap year or not.\n",
        "a=int(input(\"enter a year\"))\n",
        "if a%4==0:\n",
        "   print(\" leap year\")\n",
        "else:  \n",
        "    print(\"not a leap year\")"
      ],
      "metadata": {
        "colab": {
          "base_uri": "https://localhost:8080/"
        },
        "id": "WqMtYQZpOMpQ",
        "outputId": "0fdac6c8-02da-4ebf-867b-8845f16a1b88"
      },
      "execution_count": 11,
      "outputs": [
        {
          "output_type": "stream",
          "name": "stdout",
          "text": [
            "enter a year2020\n",
            " leap year\n"
          ]
        }
      ]
    },
    {
      "cell_type": "code",
      "source": [
        "#find minimum among three numbers.\n",
        "a=int(input(\"enter the first number:\"))\n",
        "b=int(input(\"enter the second numer:\"))\n",
        "c=int(input(\"enter the third number\"))\n",
        "if a<b and a<<c:\n",
        "  print(\"first number is minimum\")\n",
        "elif b>>c and b>a:\n",
        "  print(\"second number is minimum\")\n",
        "else:\n",
        "   print(\"third number is minimum\")   "
      ],
      "metadata": {
        "colab": {
          "base_uri": "https://localhost:8080/"
        },
        "id": "dPEV-UenUuY2",
        "outputId": "ad8075da-b868-4447-8e24-fc8bc805fb43"
      },
      "execution_count": 15,
      "outputs": [
        {
          "output_type": "stream",
          "name": "stdout",
          "text": [
            "enter the first number:9\n",
            "enter the second numer:8\n",
            "enter the third number6\n",
            "third number is minimum\n"
          ]
        }
      ]
    },
    {
      "cell_type": "code",
      "source": [
        "#check whether a number is divisible by 5 and 11 or not.\n",
        "a=int(input(\"enter the number:\"))\n",
        "if a%5==0 or a%11==0:\n",
        "  print(\"it is divisible\")\n",
        "else:\n",
        "  print(\"it is not divisible\")  "
      ],
      "metadata": {
        "colab": {
          "base_uri": "https://localhost:8080/"
        },
        "id": "Ez0QAxpsV_yd",
        "outputId": "4d37653f-796b-4678-818d-119f6fd8ec4c"
      },
      "execution_count": 16,
      "outputs": [
        {
          "output_type": "stream",
          "name": "stdout",
          "text": [
            "enter the number:50\n",
            "it is divisible\n"
          ]
        }
      ]
    },
    {
      "cell_type": "code",
      "source": [
        ""
      ],
      "metadata": {
        "id": "Hbo7QnbnWuF1"
      },
      "execution_count": null,
      "outputs": []
    }
  ]
}