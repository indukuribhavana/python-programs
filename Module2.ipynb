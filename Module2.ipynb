{
  "nbformat": 4,
  "nbformat_minor": 0,
  "metadata": {
    "colab": {
      "name": "Module2.ipynb",
      "provenance": [],
      "collapsed_sections": [],
      "authorship_tag": "ABX9TyN3y/Qa3RXch4HC6jMM64tx",
      "include_colab_link": true
    },
    "kernelspec": {
      "name": "python3",
      "display_name": "Python 3"
    },
    "language_info": {
      "name": "python"
    }
  },
  "cells": [
    {
      "cell_type": "markdown",
      "metadata": {
        "id": "view-in-github",
        "colab_type": "text"
      },
      "source": [
        "<a href=\"https://colab.research.google.com/github/indukuribhavana/python-programs/blob/main/Module2.ipynb\" target=\"_parent\"><img src=\"https://colab.research.google.com/assets/colab-badge.svg\" alt=\"Open In Colab\"/></a>"
      ]
    },
    {
      "cell_type": "markdown",
      "source": [
        "MODULE 2"
      ],
      "metadata": {
        "id": "Ox5jm1U8oyfy"
      }
    },
    {
      "cell_type": "code",
      "source": [
        "#Create a function which accepts two inputs from the user and compute nCr\n",
        "def nCr(b,h):\n",
        "  return(fact(b)/(fact(h)\n",
        "                 *fact(b-h)))\n",
        "b=int(input(\"\")) \n",
        "h=int(input(\"\"))\n",
        "def fact(b):\n",
        "  res=1\n",
        "  for i in range(2,b+1):\n",
        "   res =res*i\n",
        "  return res\n",
        "print(int(nCr(b,h)))    "
      ],
      "metadata": {
        "colab": {
          "base_uri": "https://localhost:8080/"
        },
        "id": "YNvwkhUCo3Xp",
        "outputId": "0668a754-1fe8-4c51-e5bc-cc0089d8e2e1"
      },
      "execution_count": null,
      "outputs": [
        {
          "output_type": "stream",
          "name": "stdout",
          "text": [
            "5\n",
            "2\n",
            "10\n"
          ]
        }
      ]
    },
    {
      "cell_type": "code",
      "source": [
        "#Program to print a specified list after removing the 0th, 4th and 5th elements.\n",
        "#Sample List : ['Red', 'Green', 'White', 'Black', 'Pink', 'Yellow']\n",
        "#Expected Output : ['Green', 'White', 'Black']\n",
        "colour=['Red', 'Green', 'White', 'Black', 'Pink', 'Yellow']\n",
        "colour=[h for (i,h) in enumerate (colour) if i not in (0,4,5)]\n",
        "print(colour)"
      ],
      "metadata": {
        "colab": {
          "base_uri": "https://localhost:8080/"
        },
        "id": "aZjAXRLx2Ufg",
        "outputId": "a1c0b86b-9b1d-4418-c2fb-8df375a58435"
      },
      "execution_count": null,
      "outputs": [
        {
          "output_type": "stream",
          "name": "stdout",
          "text": [
            "['Green', 'White', 'Black']\n"
          ]
        }
      ]
    },
    {
      "cell_type": "code",
      "source": [
        "#Given list of tuples, remove all the tuples with length K.\n",
        "#Input : test_list = [(4, 5), (4, ), (8, 6, 7), (1, ), (3, 4, 6, 7)], K = 2\n",
        "#Output : [(4, ), (8, 6, 7), (1, ), (3, 4, 6, 7)]\n",
        "#Explanation : (4, 5) of len = 2 is removed.\n",
        "bhavana = [(4,5), (4, ), (8,6,7), (1, ), (3,4,6,7)]\n",
        "print(\"The original list : \" + str(bhavana))\n",
        "k = int(input(\"Enter the lenght of tuples you want to eliminate: \"))\n",
        "fin=[]\n",
        "for i in range (0,len(bhavana)):\n",
        "  if len(bhavana[i]) != k:\n",
        "    fin.append(bhavana[i])\n",
        "\n",
        "print(\"Filtered list : \" + str(fin))    "
      ],
      "metadata": {
        "colab": {
          "base_uri": "https://localhost:8080/"
        },
        "id": "7lKuo-rV5mIy",
        "outputId": "5baa001f-9ea1-4f32-bee3-d113c58bbdb9"
      },
      "execution_count": null,
      "outputs": [
        {
          "output_type": "stream",
          "name": "stdout",
          "text": [
            "The original list : [(4, 5), (4,), (8, 6, 7), (1,), (3, 4, 6, 7)]\n",
            "Enter the lenght of tuples you want to eliminate: 2\n",
            "Filtered list : [(4,), (8, 6, 7), (1,), (3, 4, 6, 7)]\n"
          ]
        }
      ]
    },
    {
      "cell_type": "code",
      "source": [
        "#Program to get the difference between the two lists\n",
        "b=[14,16,17,20,22]\n",
        "h=[15,17,19,21,23]\n",
        "diff_b_h=list(set(b)-set(h))\n",
        "diff_h_b=list(set(h)-set(b))\n",
        "total_diff=diff_b_h + diff_h_b\n",
        "print(total_diff)"
      ],
      "metadata": {
        "colab": {
          "base_uri": "https://localhost:8080/"
        },
        "id": "H52YJD-q9Txi",
        "outputId": "6795484e-4002-4669-ee7e-2aeaa0442300"
      },
      "execution_count": null,
      "outputs": [
        {
          "output_type": "stream",
          "name": "stdout",
          "text": [
            "[16, 20, 14, 22, 19, 23, 21, 15]\n"
          ]
        }
      ]
    },
    {
      "cell_type": "code",
      "source": [
        "#Given a list of numbers of list, write a Python program to create a list of tuples\n",
        "#having first element as the number and second element as the square of the number.\n",
        "bhavana = [23,45,67,89,93]\n",
        "print(\"The list is \")\n",
        "print(bhavana)\n",
        "print(\"The resultant tuple is :\")\n",
        "bhavana = [(val, pow(val, 2)) for val in bhavana]\n",
        "print(bhavana)"
      ],
      "metadata": {
        "colab": {
          "base_uri": "https://localhost:8080/"
        },
        "id": "BbqLjHFj_Wny",
        "outputId": "9e6322ad-c598-4096-dc3e-9e6d4aad9fed"
      },
      "execution_count": null,
      "outputs": [
        {
          "output_type": "stream",
          "name": "stdout",
          "text": [
            "The list is \n",
            "[23, 45, 67, 89, 93]\n",
            "The resultant tuple is :\n",
            "[(23, 529), (45, 2025), (67, 4489), (89, 7921), (93, 8649)]\n"
          ]
        }
      ]
    },
    {
      "cell_type": "code",
      "source": [
        "#x Given list of tuples, remove all the tuples with length K.\n",
        "#Input : test_list = [(4, 5), (4, ), (8, 6, 7), (1, ), (3, 4, 6, 7)], K = 2\n",
        "#Output : [(4, ), (8, 6, 7), (1, ), (3, 4, 6, 7)]\n",
        "#Explanation : (4, 5) of len = 2 is removed.\n",
        "h=int(input(\"input a number\"))\n",
        "v = dict()\n",
        "\n",
        "for x in range(1,h+1):\n",
        "  v[x]=x*x\n",
        "  \n",
        "  print(v)"
      ],
      "metadata": {
        "colab": {
          "base_uri": "https://localhost:8080/"
        },
        "id": "IHvxhUCFBf4q",
        "outputId": "e7d84544-84a4-4db7-a9a2-b4c92a62561b"
      },
      "execution_count": null,
      "outputs": [
        {
          "output_type": "stream",
          "name": "stdout",
          "text": [
            "input a number3\n",
            "{1: 1}\n",
            "{1: 1, 2: 4}\n",
            "{1: 1, 2: 4, 3: 9}\n"
          ]
        }
      ]
    },
    {
      "cell_type": "code",
      "source": [
        "#Program to remove a key from a dictionary\n",
        "bhavana = {'d':4,'c':3,'b':2,'a':1}\n",
        "print(bhavana)\n",
        "if 'd' in bhavana:\n",
        "  del bhavana['d']\n",
        "print(bhavana) \n",
        "\n"
      ],
      "metadata": {
        "colab": {
          "base_uri": "https://localhost:8080/"
        },
        "id": "P48W4M_FCrLS",
        "outputId": "945cbe54-acfe-4607-920c-83526e3b6884"
      },
      "execution_count": null,
      "outputs": [
        {
          "output_type": "stream",
          "name": "stdout",
          "text": [
            "{'d': 4, 'c': 3, 'b': 2, 'a': 1}\n",
            "{'c': 3, 'b': 2, 'a': 1}\n"
          ]
        }
      ]
    },
    {
      "cell_type": "code",
      "source": [
        "##Program to generate and print a dictionary that contains a number (between 1\n",
        "##and n) in the form (x, x*x). \n",
        "\n",
        "h=int(input(\"input a number\"))\n",
        "d = dict()\n",
        "\n",
        "for x in range(1,h+1):\n",
        "  d[x]=x*x\n",
        "\n",
        "  print(d)"
      ],
      "metadata": {
        "id": "d6_wKDRzTYlM",
        "outputId": "7dd246a3-f090-442f-e313-8a7e5818e092",
        "colab": {
          "base_uri": "https://localhost:8080/"
        }
      },
      "execution_count": null,
      "outputs": [
        {
          "output_type": "stream",
          "name": "stdout",
          "text": [
            "input a number2\n",
            "{1: 1}\n",
            "{1: 1, 2: 4}\n"
          ]
        }
      ]
    },
    {
      "cell_type": "code",
      "source": [
        "##Program to get the maximum and minimum value in a dictionary\n",
        "my_numbers={\"4\":64,\"7\":74,\"9\":6,\"8\":89}\n",
        "max_value=max(my_numbers, key=my_numbers.get)\n",
        "min_value=min(my_numbers, key=my_numbers.get)\n",
        "print(\"the maximum value of a given numbers has a key:'\"+max_value+\"' and its value is:\",my_numbers[max_value])\n",
        "print(\"the minimum value of a given numbers has a key:'\"+min_value+\"' and its value is:\",my_numbers[min_value])"
      ],
      "metadata": {
        "colab": {
          "base_uri": "https://localhost:8080/"
        },
        "id": "p5Ms03R1iG8z",
        "outputId": "d5b4e018-ff55-411f-8050-d4c2b449f7e3"
      },
      "execution_count": null,
      "outputs": [
        {
          "output_type": "stream",
          "name": "stdout",
          "text": [
            "the maximum value of a given numbers has a key:'8' and its value is: 89\n",
            "the minimum value of a given numbers has a key:'9' and its value is: 6\n"
          ]
        }
      ]
    },
    {
      "cell_type": "code",
      "source": [
        "# Program for Counting occurrence of a certain element in a string, getting indexes that\n",
        "#have matching elements.For ex -.In Rabbit count how many times b has occurred .\n",
        "#example-I have to go to a doctor and get myself checked. Count the number of\n",
        "#occXrrences of µWo¶\n",
        "friend=\"divija\"\n",
        "print(friend.count(\"s\"))\n",
        "string=\"have to go to a doctor and get myself checked\"\n",
        "print(string.count(\"e\"))"
      ],
      "metadata": {
        "colab": {
          "base_uri": "https://localhost:8080/"
        },
        "id": "wLigYBhVjwLR",
        "outputId": "bf982758-1618-4d07-ae69-94f6762199bd"
      },
      "execution_count": null,
      "outputs": [
        {
          "output_type": "stream",
          "name": "stdout",
          "text": [
            "0\n",
            "5\n"
          ]
        }
      ]
    },
    {
      "cell_type": "code",
      "source": [
        "#Program to find the second smallest number and second largest number in a list\n",
        "numbers=[78,898,76,65,89,92]\n",
        "numbers.sort()\n",
        "print(numbers)\n",
        "print(\"2nd smallest number is:\",numbers[2])\n",
        "print(\"2nd largest number is:\",numbers[len(numbers)-2])"
      ],
      "metadata": {
        "colab": {
          "base_uri": "https://localhost:8080/"
        },
        "id": "LHGGgZk4sJEt",
        "outputId": "00392a2d-8b1d-4082-b3b1-13631a1ab1b3"
      },
      "execution_count": null,
      "outputs": [
        {
          "output_type": "stream",
          "name": "stdout",
          "text": [
            "[65, 76, 78, 89, 92, 898]\n",
            "2nd smallest number is: 78\n",
            "2nd largest number is: 92\n"
          ]
        }
      ]
    },
    {
      "cell_type": "code",
      "source": [
        "#Program to perform operations on string using unicodes ,splitting of string,accessing\n",
        "#elements of string using locations\n",
        "my_string=input(\"enter a string:\")\n",
        "print(my_string.split())\n",
        "print(my_string[9:87])"
      ],
      "metadata": {
        "colab": {
          "base_uri": "https://localhost:8080/"
        },
        "id": "tyoFnSWkszdF",
        "outputId": "93685aff-2f5f-4769-cce5-49a3db05f5a0"
      },
      "execution_count": null,
      "outputs": [
        {
          "output_type": "stream",
          "name": "stdout",
          "text": [
            "enter a string:76\n",
            "['76']\n",
            "\n"
          ]
        }
      ]
    },
    {
      "cell_type": "code",
      "source": [
        "#Program for replacing one substring by another For example - Rabbit - Replace µbb¶ b\\\n",
        "#µcc¶\n",
        "friend=\"dhanush\"\n",
        "friend1=friend.replace(\"h\",\"\")\n",
        "print(friend1)"
      ],
      "metadata": {
        "colab": {
          "base_uri": "https://localhost:8080/"
        },
        "id": "FdtoIDAxtRUd",
        "outputId": "adb2c700-b3c3-40a2-b119-9e51bb6ebf21"
      },
      "execution_count": null,
      "outputs": [
        {
          "output_type": "stream",
          "name": "stdout",
          "text": [
            "danus\n"
          ]
        }
      ]
    },
    {
      "cell_type": "code",
      "source": [
        "#Python function that accepts a string and calculates the number of uppercase\n",
        "#letters and lowercase letters\n",
        "string=\"i love my FAMILY\"\n",
        "count_1=0\n",
        "count_2=0\n",
        "for i in string:\n",
        "  if i.isupper():\n",
        "    count_1+=1\n",
        "  elif i.islower():\n",
        "    count_2+=1\n",
        "  else:\n",
        "    pass\n",
        "  print(\"no.of uppercase alphabets are: \",count_1)\n",
        "  print(\"no.of lowercase alphaets are: \",count_2)    "
      ],
      "metadata": {
        "colab": {
          "base_uri": "https://localhost:8080/"
        },
        "id": "FIfJeQQaty5U",
        "outputId": "3416ffa7-6898-482e-95ac-6c0e60e87d9b"
      },
      "execution_count": null,
      "outputs": [
        {
          "output_type": "stream",
          "name": "stdout",
          "text": [
            "no.of uppercase alphabets are:  0\n",
            "no.of lowercase alphaets are:  1\n",
            "no.of uppercase alphabets are:  0\n",
            "no.of lowercase alphaets are:  1\n",
            "no.of uppercase alphabets are:  0\n",
            "no.of lowercase alphaets are:  2\n",
            "no.of uppercase alphabets are:  0\n",
            "no.of lowercase alphaets are:  3\n",
            "no.of uppercase alphabets are:  0\n",
            "no.of lowercase alphaets are:  4\n",
            "no.of uppercase alphabets are:  0\n",
            "no.of lowercase alphaets are:  5\n",
            "no.of uppercase alphabets are:  0\n",
            "no.of lowercase alphaets are:  5\n",
            "no.of uppercase alphabets are:  0\n",
            "no.of lowercase alphaets are:  6\n",
            "no.of uppercase alphabets are:  0\n",
            "no.of lowercase alphaets are:  7\n",
            "no.of uppercase alphabets are:  0\n",
            "no.of lowercase alphaets are:  7\n",
            "no.of uppercase alphabets are:  1\n",
            "no.of lowercase alphaets are:  7\n",
            "no.of uppercase alphabets are:  2\n",
            "no.of lowercase alphaets are:  7\n",
            "no.of uppercase alphabets are:  3\n",
            "no.of lowercase alphaets are:  7\n",
            "no.of uppercase alphabets are:  4\n",
            "no.of lowercase alphaets are:  7\n",
            "no.of uppercase alphabets are:  5\n",
            "no.of lowercase alphaets are:  7\n",
            "no.of uppercase alphabets are:  6\n",
            "no.of lowercase alphaets are:  7\n"
          ]
        }
      ]
    },
    {
      "cell_type": "code",
      "source": [
        "#Program to count the number of strings where the string length is 2 or more and\n",
        "#the first and last character are same from a given list of strings\n",
        "sample_list =[\"abc \", \"asd \",\"675\",\"fly\",\"17\",\"uegf\"]\n",
        "count=0\n",
        "for i in sample_list:\n",
        "  if len(i)>=2:\n",
        "    if i[0]==i[len(i)-1]:\n",
        "      print(i)\n",
        "    count+=1\n",
        "    print(count)"
      ],
      "metadata": {
        "colab": {
          "base_uri": "https://localhost:8080/"
        },
        "id": "ghDaJy3GvHwp",
        "outputId": "71d0cd0b-8ce9-4cc7-ebe7-85998c2140d6"
      },
      "execution_count": null,
      "outputs": [
        {
          "output_type": "stream",
          "name": "stdout",
          "text": [
            "1\n",
            "2\n",
            "3\n",
            "4\n",
            "5\n",
            "6\n"
          ]
        }
      ]
    },
    {
      "cell_type": "code",
      "source": [
        "#Program to Acronym generate for any user input\n",
        "string=input(\"enter some string:\")\n",
        "h=string.split()\n",
        "for i in h:\n",
        "  print(i[0],end=' ')"
      ],
      "metadata": {
        "id": "NwcslUH43feR",
        "colab": {
          "base_uri": "https://localhost:8080/"
        },
        "outputId": "8fa0cfe6-d033-4d53-f19a-aeb387e54281"
      },
      "execution_count": 1,
      "outputs": [
        {
          "output_type": "stream",
          "name": "stdout",
          "text": [
            "enter some string:random access memory\n",
            "r a m "
          ]
        }
      ]
    }
  ]
}