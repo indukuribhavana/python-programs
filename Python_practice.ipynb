{
  "cells": [
    {
      "cell_type": "markdown",
      "metadata": {
        "id": "view-in-github",
        "colab_type": "text"
      },
      "source": [
        "<a href=\"https://colab.research.google.com/github/indukuribhavana/python-programs/blob/main/Python_practice.ipynb\" target=\"_parent\"><img src=\"https://colab.research.google.com/assets/colab-badge.svg\" alt=\"Open In Colab\"/></a>"
      ]
    },
    {
      "cell_type": "markdown",
      "id": "87f5e09c",
      "metadata": {
        "id": "87f5e09c"
      },
      "source": [
        "## average of three numbers"
      ]
    },
    {
      "cell_type": "code",
      "execution_count": null,
      "id": "17d373ea",
      "metadata": {
        "scrolled": true,
        "id": "17d373ea",
        "outputId": "a23be2db-6dbf-4803-e3b2-9b84286c5e14"
      },
      "outputs": [
        {
          "name": "stdout",
          "output_type": "stream",
          "text": [
            "20.0\n",
            "<class 'float'>\n"
          ]
        }
      ],
      "source": [
        "a=10\n",
        "b=20\n",
        "c=30\n",
        "average=(a+b+c)/3\n",
        "print(average)\n",
        "print(type(average))"
      ]
    },
    {
      "cell_type": "markdown",
      "id": "de437759",
      "metadata": {
        "id": "de437759"
      },
      "source": [
        "## multiplication of three numbers"
      ]
    },
    {
      "cell_type": "code",
      "execution_count": null,
      "id": "b4cdeaa5",
      "metadata": {
        "id": "b4cdeaa5",
        "outputId": "10796df9-598a-4b11-da8e-1d1b32145c01"
      },
      "outputs": [
        {
          "name": "stdout",
          "output_type": "stream",
          "text": [
            "360\n",
            "<class 'int'>\n"
          ]
        }
      ],
      "source": [
        "a=8\n",
        "b=9\n",
        "c=5\n",
        "d=(a*b*c)\n",
        "print(d)\n",
        "print(type(d))"
      ]
    },
    {
      "cell_type": "markdown",
      "id": "8fc48603",
      "metadata": {
        "id": "8fc48603"
      },
      "source": [
        "## addition of 2 numbers\n",
        "(dynamic)"
      ]
    },
    {
      "cell_type": "code",
      "execution_count": null,
      "id": "4e42336b",
      "metadata": {
        "id": "4e42336b",
        "outputId": "c5a64e6a-d84e-4f95-a5eb-46428e2404ee"
      },
      "outputs": [
        {
          "name": "stdout",
          "output_type": "stream",
          "text": [
            "enter the number:10\n",
            "enter the number:20\n",
            "30\n",
            "<class 'int'>\n"
          ]
        }
      ],
      "source": [
        "a=int(input(\"enter the number:\"))\n",
        "b=int(input(\"enter the number:\"))\n",
        "add=(a+b)\n",
        "print(add)\n",
        "print(type(add))"
      ]
    },
    {
      "cell_type": "markdown",
      "id": "fddab0ee",
      "metadata": {
        "id": "fddab0ee"
      },
      "source": [
        "# type conversions"
      ]
    },
    {
      "cell_type": "markdown",
      "id": "d42f3ee5",
      "metadata": {
        "id": "d42f3ee5"
      },
      "source": [
        "### convert int to float"
      ]
    },
    {
      "cell_type": "code",
      "execution_count": null,
      "id": "2eb21626",
      "metadata": {
        "id": "2eb21626",
        "outputId": "856dc1df-d936-4b33-d02b-b5ae7b6462ad"
      },
      "outputs": [
        {
          "name": "stdout",
          "output_type": "stream",
          "text": [
            "<class 'int'>\n",
            "10.0\n",
            "<class 'float'>\n"
          ]
        }
      ],
      "source": [
        "a=10\n",
        "print(type(a))\n",
        "b=float(a)\n",
        "print(b)\n",
        "print(type(b))"
      ]
    },
    {
      "cell_type": "markdown",
      "id": "aac5bed0",
      "metadata": {
        "id": "aac5bed0"
      },
      "source": [
        "### convert float to int"
      ]
    },
    {
      "cell_type": "code",
      "execution_count": null,
      "id": "a2080c72",
      "metadata": {
        "id": "a2080c72",
        "outputId": "41504cc6-6775-400c-ae34-362588b98631"
      },
      "outputs": [
        {
          "name": "stdout",
          "output_type": "stream",
          "text": [
            "<class 'int'>\n",
            "5\n",
            "<class 'int'>\n"
          ]
        }
      ],
      "source": [
        "a=5\n",
        "print(type(a))\n",
        "b=int(a)\n",
        "print(b)\n",
        "print(type(b))"
      ]
    },
    {
      "cell_type": "markdown",
      "id": "097d6bc7",
      "metadata": {
        "id": "097d6bc7"
      },
      "source": [
        "### convert int to string"
      ]
    },
    {
      "cell_type": "code",
      "execution_count": null,
      "id": "395b8746",
      "metadata": {
        "id": "395b8746",
        "outputId": "212b4513-fc67-466f-e0e9-10b636798991"
      },
      "outputs": [
        {
          "name": "stdout",
          "output_type": "stream",
          "text": [
            "<class 'float'>\n",
            "15.5\n",
            "<class 'str'>\n"
          ]
        }
      ],
      "source": [
        "a=15.5\n",
        "print(type(a))\n",
        "b=str(a)\n",
        "print(b)\n",
        "print(type(b))\n"
      ]
    },
    {
      "cell_type": "markdown",
      "id": "3a76f230",
      "metadata": {
        "id": "3a76f230"
      },
      "source": [
        "### convert float to string"
      ]
    },
    {
      "cell_type": "code",
      "execution_count": null,
      "id": "90984c50",
      "metadata": {
        "id": "90984c50",
        "outputId": "8278193e-5ed5-4e66-b0d1-61704e9961ef"
      },
      "outputs": [
        {
          "name": "stdout",
          "output_type": "stream",
          "text": [
            "<class 'int'>\n",
            "15\n",
            "<class 'str'>\n"
          ]
        }
      ],
      "source": [
        "a=15\n",
        "print(type(a))\n",
        "b=str(a)\n",
        "print(b)\n",
        "print(type(b))"
      ]
    },
    {
      "cell_type": "markdown",
      "id": "6537a8bb",
      "metadata": {
        "id": "6537a8bb"
      },
      "source": [
        "### string to int not possible only if  values given in alphabets"
      ]
    },
    {
      "cell_type": "markdown",
      "id": "913d8419",
      "metadata": {
        "id": "913d8419"
      },
      "source": [
        "## boolean"
      ]
    },
    {
      "cell_type": "code",
      "execution_count": null,
      "id": "b8cfa31a",
      "metadata": {
        "id": "b8cfa31a",
        "outputId": "ab55e32a-e4f2-49ca-926f-a45e5951060c"
      },
      "outputs": [
        {
          "name": "stdout",
          "output_type": "stream",
          "text": [
            "False\n",
            "<class 'int'>\n"
          ]
        }
      ],
      "source": [
        "z=10\n",
        "b=12\n",
        "c=b<z\n",
        "print(c)\n",
        "print(type(c))"
      ]
    },
    {
      "cell_type": "markdown",
      "id": "b2156ea0",
      "metadata": {
        "id": "b2156ea0"
      },
      "source": [
        "### convert int into boolean"
      ]
    },
    {
      "cell_type": "code",
      "execution_count": null,
      "id": "4cec3692",
      "metadata": {
        "id": "4cec3692",
        "outputId": "7d03bbd7-4ad2-4346-bfb8-755d642b764e"
      },
      "outputs": [
        {
          "name": "stdout",
          "output_type": "stream",
          "text": [
            "<class 'int'>\n",
            "False\n",
            "<class 'bool'>\n"
          ]
        }
      ],
      "source": [
        "a=5\n",
        "c=7\n",
        "d=a>c\n",
        "print(type(a))\n",
        "b=bool(d)\n",
        "print(b)\n",
        "print(type(b))"
      ]
    },
    {
      "cell_type": "markdown",
      "id": "e0f9174b",
      "metadata": {
        "id": "e0f9174b"
      },
      "source": [
        "## convert boolean into int"
      ]
    },
    {
      "cell_type": "code",
      "execution_count": null,
      "id": "4f8ddb76",
      "metadata": {
        "id": "4f8ddb76",
        "outputId": "b3e9fd5b-bc2c-409c-d5af-195d1813951f"
      },
      "outputs": [
        {
          "name": "stdout",
          "output_type": "stream",
          "text": [
            "<class 'bool'>\n",
            "1\n",
            "<class 'int'>\n"
          ]
        }
      ],
      "source": [
        "a=5\n",
        "b=3\n",
        "c=a>b\n",
        "print(type(c))\n",
        "d=int(c)\n",
        "print(d)\n",
        "print(type(d))"
      ]
    },
    {
      "cell_type": "markdown",
      "id": "0cbdf3f4",
      "metadata": {
        "id": "0cbdf3f4"
      },
      "source": [
        "## convert boolean into float"
      ]
    },
    {
      "cell_type": "code",
      "execution_count": null,
      "id": "48e8efd8",
      "metadata": {
        "id": "48e8efd8",
        "outputId": "2c4e2b02-e093-449b-b4d6-7342c02714f5"
      },
      "outputs": [
        {
          "name": "stdout",
          "output_type": "stream",
          "text": [
            "10.0\n",
            "<class 'bool'>\n",
            "<class 'float'>\n"
          ]
        }
      ],
      "source": [
        "a=bool(10)\n",
        "c=10.0\n",
        "print(c)\n",
        "print(type(a))\n",
        "b=float(a)\n",
        "print(type(b))"
      ]
    },
    {
      "cell_type": "markdown",
      "id": "37935612",
      "metadata": {
        "id": "37935612"
      },
      "source": [
        "## convert boolean into string"
      ]
    },
    {
      "cell_type": "code",
      "execution_count": null,
      "id": "2b25f5ab",
      "metadata": {
        "id": "2b25f5ab",
        "outputId": "7c6878c6-1da4-410b-9001-dd7688882d49"
      },
      "outputs": [
        {
          "name": "stdout",
          "output_type": "stream",
          "text": [
            "<class 'bool'>\n",
            "True\n",
            "<class 'str'>\n"
          ]
        }
      ],
      "source": [
        "a=bool(9)\n",
        "print(type(a))\n",
        "b=str(a)\n",
        "print(b)\n",
        "print(type(b))"
      ]
    },
    {
      "cell_type": "markdown",
      "id": "004d42b9",
      "metadata": {
        "id": "004d42b9"
      },
      "source": [
        "## complex into int"
      ]
    },
    {
      "cell_type": "code",
      "execution_count": null,
      "id": "0cde66c6",
      "metadata": {
        "id": "0cde66c6",
        "outputId": "48d8bf04-92dd-464a-ee32-d70a19bd2cd9"
      },
      "outputs": [
        {
          "name": "stdout",
          "output_type": "stream",
          "text": [
            "<class 'complex'>\n",
            "<class 'str'>\n",
            "<class 'bool'>\n"
          ]
        },
        {
          "ename": "TypeError",
          "evalue": "can't convert complex to float",
          "output_type": "error",
          "traceback": [
            "\u001b[1;31m---------------------------------------------------------------------------\u001b[0m",
            "\u001b[1;31mTypeError\u001b[0m                                 Traceback (most recent call last)",
            "\u001b[1;32m~\\AppData\\Local\\Temp/ipykernel_2832/140929985.py\u001b[0m in \u001b[0;36m<module>\u001b[1;34m\u001b[0m\n\u001b[0;32m      5\u001b[0m \u001b[0md\u001b[0m\u001b[1;33m=\u001b[0m\u001b[0mbool\u001b[0m\u001b[1;33m(\u001b[0m\u001b[0ma\u001b[0m\u001b[1;33m)\u001b[0m\u001b[1;33m\u001b[0m\u001b[1;33m\u001b[0m\u001b[0m\n\u001b[0;32m      6\u001b[0m \u001b[0mprint\u001b[0m\u001b[1;33m(\u001b[0m\u001b[0mtype\u001b[0m\u001b[1;33m(\u001b[0m\u001b[0md\u001b[0m\u001b[1;33m)\u001b[0m\u001b[1;33m)\u001b[0m\u001b[1;33m\u001b[0m\u001b[1;33m\u001b[0m\u001b[0m\n\u001b[1;32m----> 7\u001b[1;33m \u001b[0me\u001b[0m\u001b[1;33m=\u001b[0m\u001b[0mfloat\u001b[0m\u001b[1;33m(\u001b[0m\u001b[0ma\u001b[0m\u001b[1;33m)\u001b[0m\u001b[1;33m\u001b[0m\u001b[1;33m\u001b[0m\u001b[0m\n\u001b[0m\u001b[0;32m      8\u001b[0m \u001b[0mprint\u001b[0m\u001b[1;33m(\u001b[0m\u001b[0mtype\u001b[0m\u001b[1;33m(\u001b[0m\u001b[0me\u001b[0m\u001b[1;33m)\u001b[0m\u001b[1;33m)\u001b[0m\u001b[1;33m\u001b[0m\u001b[1;33m\u001b[0m\u001b[0m\n",
            "\u001b[1;31mTypeError\u001b[0m: can't convert complex to float"
          ]
        }
      ],
      "source": [
        "a=5+2j\n",
        "print(type(a))\n",
        "c=str(a)\n",
        "print(type(c))\n",
        "d=bool(a)\n",
        "print(type(d))\n",
        "e=float(a)\n",
        "print(type(e))"
      ]
    },
    {
      "cell_type": "code",
      "execution_count": null,
      "id": "45a2cca8",
      "metadata": {
        "id": "45a2cca8"
      },
      "outputs": [],
      "source": [
        ""
      ]
    }
  ],
  "metadata": {
    "kernelspec": {
      "display_name": "Python 3 (ipykernel)",
      "language": "python",
      "name": "python3"
    },
    "language_info": {
      "codemirror_mode": {
        "name": "ipython",
        "version": 3
      },
      "file_extension": ".py",
      "mimetype": "text/x-python",
      "name": "python",
      "nbconvert_exporter": "python",
      "pygments_lexer": "ipython3",
      "version": "3.9.7"
    },
    "colab": {
      "name": "Python practice.ipynb",
      "provenance": [],
      "include_colab_link": true
    }
  },
  "nbformat": 4,
  "nbformat_minor": 5
}