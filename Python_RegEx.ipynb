{
  "nbformat": 4,
  "nbformat_minor": 0,
  "metadata": {
    "colab": {
      "name": "Python RegEx.ipynb",
      "provenance": [],
      "authorship_tag": "ABX9TyNCFtkhjZ/GMoa2G1ucwBnL",
      "include_colab_link": true
    },
    "kernelspec": {
      "name": "python3",
      "display_name": "Python 3"
    },
    "language_info": {
      "name": "python"
    }
  },
  "cells": [
    {
      "cell_type": "markdown",
      "metadata": {
        "id": "view-in-github",
        "colab_type": "text"
      },
      "source": [
        "<a href=\"https://colab.research.google.com/github/indukuribhavana/python-programs/blob/main/Python_RegEx.ipynb\" target=\"_parent\"><img src=\"https://colab.research.google.com/assets/colab-badge.svg\" alt=\"Open In Colab\"/></a>"
      ]
    },
    {
      "cell_type": "code",
      "execution_count": 6,
      "metadata": {
        "colab": {
          "base_uri": "https://localhost:8080/"
        },
        "id": "PzIo0fspKADf",
        "outputId": "26f04032-51d7-4db6-9709-5d095667eb65"
      },
      "outputs": [
        {
          "output_type": "stream",
          "name": "stdout",
          "text": [
            "match\n"
          ]
        }
      ],
      "source": [
        "txt = \"I am Bhavana studying in Gitam university first year\"\n",
        "import re\n",
        "x = re.search(\"Bhavana\",txt)\n",
        "if x:\n",
        "  print(\"match\")\n",
        "else:\n",
        "    print(\"not matched\")"
      ]
    },
    {
      "cell_type": "code",
      "source": [
        "txt = \"I am Bhavana studying in Gitam university first year\"\n",
        "import re\n",
        "x = re.search(\"Rakshitha\",txt)\n",
        "if x:\n",
        "  print(\"match\")\n",
        "else:\n",
        "    print(\"not matched\")"
      ],
      "metadata": {
        "colab": {
          "base_uri": "https://localhost:8080/"
        },
        "id": "1jUxFW1JLsb7",
        "outputId": "c3f49fc8-7bc0-4f39-bd2f-16dc10f8239d"
      },
      "execution_count": 7,
      "outputs": [
        {
          "output_type": "stream",
          "name": "stdout",
          "text": [
            "not matched\n"
          ]
        }
      ]
    },
    {
      "cell_type": "code",
      "source": [
        "txt = \"At an elevation of about 3200 ft, Araku is famous for its coffee plantations surrounded by beautiful gardens, streams, waterfalls and valleys that are covered with lush green forests. Situated in the Eastern Ghats, the hill station is about 112 km southeast of Vishakhapatnam.\"\n",
        "import re\n",
        "x=re.search(\"elevation\",txt)\n",
        "if x:\n",
        "  print(\"match\")\n",
        "else:\n",
        "  print(\"not matched\")"
      ],
      "metadata": {
        "colab": {
          "base_uri": "https://localhost:8080/"
        },
        "id": "PRTgLP3VL8zS",
        "outputId": "24e45ea5-d8b4-43e7-d124-6eb4638fe0a7"
      },
      "execution_count": 8,
      "outputs": [
        {
          "output_type": "stream",
          "name": "stdout",
          "text": [
            "match\n"
          ]
        }
      ]
    },
    {
      "cell_type": "code",
      "source": [
        "txt = \"At an elevation of about 3200 ft, Araku is famous for its coffee plantations surrounded by beautiful\"\n",
        "\"gardens, streams, waterfalls and valleys that are covered with lush green forests\"\n",
        "\"Situated in the Eastern Ghats, the hill station is about 112 km southeast of Vishakhapatnam.\"\n",
        "import re\n",
        "x = re.findall(\"[a-i]\",txt)\n",
        "if x:\n",
        " print(x)"
      ],
      "metadata": {
        "colab": {
          "base_uri": "https://localhost:8080/"
        },
        "id": "sX-8V1NjNZ_a",
        "outputId": "214a1669-da8c-4c8e-d7b5-49deacf32863"
      },
      "execution_count": 27,
      "outputs": [
        {
          "output_type": "stream",
          "name": "stdout",
          "text": [
            "['a', 'e', 'e', 'a', 'i', 'f', 'a', 'b', 'f', 'a', 'i', 'f', 'a', 'f', 'i', 'c', 'f', 'f', 'e', 'e', 'a', 'a', 'i', 'd', 'e', 'd', 'b', 'b', 'e', 'a', 'i', 'f']\n"
          ]
        }
      ]
    },
    {
      "cell_type": "code",
      "source": [
        "txt = \"a6\"\n",
        "import re\n",
        "x = re.split(\"\\s\", txt, 1)\n",
        "print(x)"
      ],
      "metadata": {
        "colab": {
          "base_uri": "https://localhost:8080/"
        },
        "id": "33FWdL_pOaQi",
        "outputId": "dd49c97f-623b-4e89-b6d2-ffe4b6ad6bd2"
      },
      "execution_count": 20,
      "outputs": [
        {
          "output_type": "stream",
          "name": "stdout",
          "text": [
            "['a6']\n"
          ]
        }
      ]
    },
    {
      "cell_type": "code",
      "source": [
        ""
      ],
      "metadata": {
        "id": "G3uUuEV4OrjZ"
      },
      "execution_count": null,
      "outputs": []
    }
  ]
}