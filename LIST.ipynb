{
  "nbformat": 4,
  "nbformat_minor": 0,
  "metadata": {
    "colab": {
      "name": "LIST.ipynb",
      "provenance": [],
      "collapsed_sections": [],
      "authorship_tag": "ABX9TyOY0zdvpENccO5f+O/shEPT",
      "include_colab_link": true
    },
    "kernelspec": {
      "name": "python3",
      "display_name": "Python 3"
    },
    "language_info": {
      "name": "python"
    }
  },
  "cells": [
    {
      "cell_type": "markdown",
      "metadata": {
        "id": "view-in-github",
        "colab_type": "text"
      },
      "source": [
        "<a href=\"https://colab.research.google.com/github/indukuribhavana/python-programs/blob/main/LIST.ipynb\" target=\"_parent\"><img src=\"https://colab.research.google.com/assets/colab-badge.svg\" alt=\"Open In Colab\"/></a>"
      ]
    },
    {
      "cell_type": "markdown",
      "source": [
        "PRINTING LIST\n"
      ],
      "metadata": {
        "id": "M033JpM2pAxV"
      }
    },
    {
      "cell_type": "code",
      "source": [
        "fruit=[\"apple\",\"banana\",\"orange\",\"pineapple\"]\n",
        "print(fruit)"
      ],
      "metadata": {
        "colab": {
          "base_uri": "https://localhost:8080/"
        },
        "id": "MIf6ph4gpGYQ",
        "outputId": "10694237-4898-449d-a1b7-1d286e4a4105"
      },
      "execution_count": null,
      "outputs": [
        {
          "output_type": "stream",
          "name": "stdout",
          "text": [
            "['apple', 'banana', 'orange', 'pineapple']\n"
          ]
        }
      ]
    },
    {
      "cell_type": "markdown",
      "source": [
        "ACCESSING LIST\n"
      ],
      "metadata": {
        "id": "lS2WsnQ4pgTQ"
      }
    },
    {
      "cell_type": "code",
      "source": [
        "fruit=[\"apple\",\"banana\",\"orange\",\"pineapple\"]\n",
        "print(fruit)\n",
        "\n",
        "#PRINT THE FIRST ITEM OF THE LIST\n",
        "print(fruit[0])\n",
        "\n",
        "#NEGATIVE INDEXING\n",
        "print(fruit[-1])\n",
        "\n",
        "#RANGE OF INDEXES\n",
        "print(fruit[0:2])\n",
        "print(fruit[:2])\n",
        "print(fruit[1:2])\n",
        "print(fruit[1:])\n",
        "print(fruit[3:])"
      ],
      "metadata": {
        "colab": {
          "base_uri": "https://localhost:8080/"
        },
        "id": "ZwV3f4UVpmST",
        "outputId": "522b51fe-8a68-4926-8cd5-504dc522945c"
      },
      "execution_count": null,
      "outputs": [
        {
          "output_type": "stream",
          "name": "stdout",
          "text": [
            "['apple', 'banana', 'orange', 'pineapple']\n",
            "apple\n",
            "pineapple\n",
            "['apple', 'banana']\n",
            "['apple', 'banana']\n",
            "['banana']\n",
            "['banana', 'orange', 'pineapple']\n",
            "['pineapple']\n"
          ]
        }
      ]
    },
    {
      "cell_type": "markdown",
      "source": [
        "CHANING LIST ITEMS"
      ],
      "metadata": {
        "id": "p1kQk3UDscS7"
      }
    },
    {
      "cell_type": "code",
      "source": [
        "fruit=[\"apple\",\"banana\",\"orange\",\"pineapple\"]\n",
        "print(fruit)\n",
        "fruit[1:3]=[\"watermelon\"]\n",
        "print(fruit)\n",
        "fruit[2:3]=[\"papaya\",\"kiwi\"]\n",
        "print(fruit)"
      ],
      "metadata": {
        "colab": {
          "base_uri": "https://localhost:8080/"
        },
        "id": "nniYZ1FJsgDC",
        "outputId": "d79daa37-fa7a-43ba-f721-98111636cd3d"
      },
      "execution_count": null,
      "outputs": [
        {
          "output_type": "stream",
          "name": "stdout",
          "text": [
            "['apple', 'banana', 'orange', 'pineapple']\n",
            "['apple', 'watermelon', 'pineapple']\n",
            "['apple', 'watermelon', 'papaya', 'kiwi']\n"
          ]
        }
      ]
    },
    {
      "cell_type": "markdown",
      "source": [
        "EXTENDING THE ITEM"
      ],
      "metadata": {
        "id": "7dJXqRkMuDVG"
      }
    },
    {
      "cell_type": "code",
      "source": [
        "fruit=[\"apple\",\"banana\",\"orange\",\"pineapple\"]\n",
        "print(fruit)\n",
        "fruit[2:4]=\"papaya\"\n",
        "print(fruit)"
      ],
      "metadata": {
        "colab": {
          "base_uri": "https://localhost:8080/"
        },
        "id": "cAQrxUCduGal",
        "outputId": "2ba17208-faa0-4428-c153-12ec65f5d63c"
      },
      "execution_count": null,
      "outputs": [
        {
          "output_type": "stream",
          "name": "stdout",
          "text": [
            "['apple', 'banana', 'orange', 'pineapple']\n",
            "['apple', 'banana', 'p', 'a', 'p', 'a', 'y', 'a']\n"
          ]
        }
      ]
    },
    {
      "cell_type": "markdown",
      "source": [
        "ADD LIST ITEMS"
      ],
      "metadata": {
        "id": "lOZ9ha3gvR-2"
      }
    },
    {
      "cell_type": "code",
      "source": [
        "fruit=[\"apple\",\"banana\",\"orange\",\"pineapple\"]\n",
        "print(fruit)\n",
        "\n",
        "#APPEND\n",
        "fruit.append(\"papaya\")\n",
        "print(fruit)\n",
        "\n",
        "#INSERTING\n",
        "fruit.insert(4,\"guava\")\n",
        "print(fruit)\n",
        "fruit.insert(1,\"kiwi\")\n",
        "print(fruit)\n",
        "\n",
        "#EXTENDING THE LIST\n",
        "extra=(\"watermelon\",\"papaya\")\n",
        "fruit.extend(extra)\n",
        "print(fruit)\n"
      ],
      "metadata": {
        "colab": {
          "base_uri": "https://localhost:8080/"
        },
        "id": "9rUtN_6XvV56",
        "outputId": "430e083e-82eb-4dcb-d1bf-a0a484e46bce"
      },
      "execution_count": null,
      "outputs": [
        {
          "output_type": "stream",
          "name": "stdout",
          "text": [
            "['apple', 'banana', 'orange', 'pineapple']\n",
            "['apple', 'banana', 'orange', 'pineapple', 'papaya']\n",
            "['apple', 'banana', 'orange', 'pineapple', 'guava', 'papaya']\n",
            "['apple', 'kiwi', 'banana', 'orange', 'pineapple', 'guava', 'papaya']\n",
            "['apple', 'kiwi', 'banana', 'orange', 'pineapple', 'guava', 'papaya', 'watermelon', 'papaya']\n"
          ]
        }
      ]
    },
    {
      "cell_type": "markdown",
      "source": [
        "REMOVING LIST ITEMS"
      ],
      "metadata": {
        "id": "0bFF3JI1yFpr"
      }
    },
    {
      "cell_type": "code",
      "source": [
        "fruit=[\"apple\",\"banana\",\"orange\",\"pineapple\"]\n",
        "print(fruit)\n",
        "\n",
        "#REMOVING LIST ITEM\n",
        "fruit.remove(\"orange\")\n",
        "print(fruit)\n",
        "\n",
        "#POP AND REMOVE ARE SAME\n",
        "fruit.pop(1)\n",
        "print(fruit)\n",
        "\n",
        "#DELETE\n",
        "del fruit[0]\n",
        "print(fruit)\n",
        "\n",
        "#CLEARING THE LIST\n",
        "fruit.clear()\n",
        "print(fruit)"
      ],
      "metadata": {
        "colab": {
          "base_uri": "https://localhost:8080/"
        },
        "id": "f6EGXqa1yPZR",
        "outputId": "5f7b6cbd-7f11-400c-f0ba-5ba2475ccd67"
      },
      "execution_count": null,
      "outputs": [
        {
          "output_type": "stream",
          "name": "stdout",
          "text": [
            "['apple', 'banana', 'orange', 'pineapple']\n",
            "['apple', 'banana', 'pineapple']\n",
            "['apple', 'pineapple']\n",
            "['pineapple']\n",
            "[]\n"
          ]
        }
      ]
    },
    {
      "cell_type": "markdown",
      "source": [
        "LOOP LIST"
      ],
      "metadata": {
        "id": "To_Ommko0q29"
      }
    },
    {
      "cell_type": "code",
      "source": [
        "fruit=[\"apple\",\"banana\",\"orange\"]\n",
        "print(fruit)\n",
        "\n",
        "#FOR LOOP\n",
        "for x in fruit:\n",
        "  print(x)\n",
        "\n",
        "#RANGE\n",
        "for i in range(len(fruit)):\n",
        "  print(fruit[1])\n",
        "\n",
        "#WHILE LOOP\n",
        "i=0\n",
        "while i < len(fruit):\n",
        "  print(fruit[i])\n",
        "  i=i+1\n",
        "\n",
        "#FOR LOOP\n",
        "[print(x) for x in fruit]  "
      ],
      "metadata": {
        "colab": {
          "base_uri": "https://localhost:8080/"
        },
        "id": "ArwJKR1X0tY6",
        "outputId": "bcb4f4de-7a5e-4e62-865f-87763207316e"
      },
      "execution_count": null,
      "outputs": [
        {
          "output_type": "stream",
          "name": "stdout",
          "text": [
            "['apple', 'banana', 'orange']\n",
            "apple\n",
            "banana\n",
            "orange\n",
            "banana\n",
            "banana\n",
            "banana\n",
            "apple\n",
            "banana\n",
            "orange\n",
            "apple\n",
            "banana\n",
            "orange\n"
          ]
        },
        {
          "output_type": "execute_result",
          "data": {
            "text/plain": [
              "[None, None, None]"
            ]
          },
          "metadata": {},
          "execution_count": 13
        }
      ]
    },
    {
      "cell_type": "markdown",
      "source": [
        "LIST OF COMPREHENSION\n"
      ],
      "metadata": {
        "id": "ffXkn4z72Qxb"
      }
    },
    {
      "cell_type": "code",
      "source": [
        "\n",
        "fruit=[\"apple\",\"watermelon\",\"papaya\"]\n",
        "newlist=[x for x in fruit if \"y\" in x]\n",
        "print(newlist)\n",
        "\n",
        "newlist=[x for x in fruit if x !=\"apple\"]\n",
        "print(newlist)\n",
        "\n",
        "newlist=[x for x in fruit]\n",
        "print(newlist)\n",
        "\n",
        "newlist=[x for x in range(11)]\n",
        "print(newlist)\n",
        "\n",
        "newlist=[x for x in range(9) if x<5]\n",
        "print(newlist)\n",
        "\n",
        "newlist=[x.upper()for x in fruit]\n",
        "print(newlist)\n",
        "\n",
        "newlist=['hello' for x in fruit]\n",
        "print(newlist)\n",
        "\n",
        "newlist=[x if x !=\"apple\" else \"papaya\" for x in fruit]\n",
        "print(newlist)"
      ],
      "metadata": {
        "colab": {
          "base_uri": "https://localhost:8080/"
        },
        "id": "y9y_pRUD2XdL",
        "outputId": "e134ee7c-eaeb-4f98-ce0b-17a3cf2284cc"
      },
      "execution_count": null,
      "outputs": [
        {
          "output_type": "stream",
          "name": "stdout",
          "text": [
            "['papaya']\n",
            "['watermelon', 'papaya']\n",
            "['apple', 'watermelon', 'papaya']\n",
            "[0, 1, 2, 3, 4, 5, 6, 7, 8, 9, 10]\n",
            "[0, 1, 2, 3, 4]\n",
            "['APPLE', 'WATERMELON', 'PAPAYA']\n",
            "['hello', 'hello', 'hello']\n",
            "['papaya', 'watermelon', 'papaya']\n"
          ]
        }
      ]
    },
    {
      "cell_type": "markdown",
      "source": [
        "SORT LIST"
      ],
      "metadata": {
        "id": "DikN6z4jI1vq"
      }
    },
    {
      "cell_type": "code",
      "source": [
        "#SORT ALPH\n",
        "fruit=[\"apple\",\"pineapple\",\"orange\",\"banana\",\"guava\"]\n",
        "fruit.sort()\n",
        "print(fruit)\n",
        "\n",
        "#SORT NUMERICALLY\n",
        "numbers=[\"10\",\"40\",\"143\",\"33\",\"28\"]\n",
        "numbers.sort()\n",
        "print(numbers)\n",
        "\n",
        "#SORT DESCENDING\n",
        "fruit=[\"apple\",\"pineapple\",\"orange\",\"banana\",\"guava\"]\n",
        "fruit.sort(reverse = True)\n",
        "print(fruit)\n",
        "\n",
        "numbers=[\"10\",\"40\",\"143\",\"33\",\"28\"]\n",
        "numbers.sort(reverse = True)\n",
        "print(numbers)\n",
        "\n",
        "#CUSTOMISE SORT FUNCTION\n",
        "def myfunc(n):\n",
        "  return abs(n - 50)\n",
        "numbers = [10,40,143,33,28]\n",
        "numbers.sort(key = myfunc)\n",
        "print(numbers)\n",
        "\n",
        "#CASE INSENSITIVE SORT\n",
        "fruit = [\"apple\",\"pineapple\",\"orange\",\"banana\",\"guava\"]\n",
        "fruit.sort()\n",
        "print(fruit)\n",
        "\n",
        "#REVESE ORDER\n",
        "fruit = [\"apple\",\"pineapple\",\"orange\",\"banana\",\"guava\"]\n",
        "fruit.reverse()\n",
        "print(fruit)"
      ],
      "metadata": {
        "colab": {
          "base_uri": "https://localhost:8080/"
        },
        "id": "pAJbWJzDMbyx",
        "outputId": "a8ea7616-e89e-435c-82cc-1728ab1f9355"
      },
      "execution_count": null,
      "outputs": [
        {
          "output_type": "stream",
          "name": "stdout",
          "text": [
            "['apple', 'banana', 'guava', 'orange', 'pineapple']\n",
            "['10', '143', '28', '33', '40']\n",
            "['pineapple', 'orange', 'guava', 'banana', 'apple']\n",
            "['40', '33', '28', '143', '10']\n",
            "[40, 33, 28, 10, 143]\n",
            "['apple', 'banana', 'guava', 'orange', 'pineapple']\n",
            "['guava', 'banana', 'orange', 'pineapple', 'apple']\n"
          ]
        }
      ]
    },
    {
      "cell_type": "markdown",
      "source": [
        "COPY LIST"
      ],
      "metadata": {
        "id": "vvU00bYYXYf3"
      }
    },
    {
      "cell_type": "code",
      "source": [
        "#COPY A LIST\n",
        "fruit = [\"apple\",\"banana\",\"orange\"]\n",
        "mylist=fruit.copy()\n",
        "print(mylist)\n",
        "\n",
        "mylist=list(fruit)\n",
        "print(mylist)"
      ],
      "metadata": {
        "colab": {
          "base_uri": "https://localhost:8080/"
        },
        "id": "NPMj3c3EXbKX",
        "outputId": "9b0eafe3-4081-4f38-f3ea-12a4b1333cef"
      },
      "execution_count": 11,
      "outputs": [
        {
          "output_type": "stream",
          "name": "stdout",
          "text": [
            "['apple', 'banana', 'orange']\n",
            "['apple', 'banana', 'orange']\n"
          ]
        }
      ]
    },
    {
      "cell_type": "markdown",
      "source": [
        "JOIN LISTS"
      ],
      "metadata": {
        "id": "5HlTD7qbZSoc"
      }
    },
    {
      "cell_type": "code",
      "source": [
        "#JOIN TWO LIST\n",
        "a = [\"d\",\"e\",\"f\"]\n",
        "b = [1,2,3]\n",
        "c = a + b\n",
        "print(c)\n",
        "\n",
        "a = [\"d\",\"e\",\"f\"]\n",
        "b = [1,2,3]\n",
        "for x in b:\n",
        "  a.append(x)\n",
        "print(a)\n",
        "\n",
        "#EXTEND\n",
        "a = [\"d\",\"e\",\"f\"]\n",
        "b = [1,2,3]\n",
        "a.extend(b)\n",
        "print(a)"
      ],
      "metadata": {
        "colab": {
          "base_uri": "https://localhost:8080/"
        },
        "id": "H4S-Qq-mZaAR",
        "outputId": "0713a6b6-66fe-4b49-9de9-a016d599063d"
      },
      "execution_count": 10,
      "outputs": [
        {
          "output_type": "stream",
          "name": "stdout",
          "text": [
            "['d', 'e', 'f', 1, 2, 3]\n",
            "['d', 'e', 'f', 1, 2, 3]\n",
            "['d', 'e', 'f', 1, 2, 3]\n"
          ]
        }
      ]
    }
  ]
}